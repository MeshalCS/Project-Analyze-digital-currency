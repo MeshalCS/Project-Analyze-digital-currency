{
  "nbformat": 4,
  "nbformat_minor": 0,
  "metadata": {
    "colab": {
      "name": "Untitled0.ipynb",
      "provenance": [],
      "collapsed_sections": [],
      "mount_file_id": "1ANd3IFjEu5pAthE5oGdSq7rKT_Ar5HUz",
      "authorship_tag": "ABX9TyM2qdpqFEvhhRVc2/njdkAF",
      "include_colab_link": true
    },
    "kernelspec": {
      "name": "python3",
      "display_name": "Python 3"
    },
    "language_info": {
      "name": "python"
    }
  },
  "cells": [
    {
      "cell_type": "markdown",
      "metadata": {
        "id": "view-in-github",
        "colab_type": "text"
      },
      "source": [
        "<a href=\"https://colab.research.google.com/github/MeshalCS/Project-Analyze-digital-currency/blob/main/Predict_BTC.ipynb\" target=\"_parent\"><img src=\"https://colab.research.google.com/assets/colab-badge.svg\" alt=\"Open In Colab\"/></a>"
      ]
    },
    {
      "cell_type": "code",
      "metadata": {
        "id": "PEtcCujyrqhd"
      },
      "source": [
        "import numpy as np # linear algebra\n",
        "import pandas as pd # data processing, CSV file \n",
        "import math\n",
        "\n",
        "import pandas_datareader as web\n",
        "from sklearn.preprocessing import MinMaxScaler\n",
        "from keras.models import Sequential\n",
        "from keras.layers import Dense, LSTM\n",
        "import matplotlib.pyplot as plt\n",
        "import plotly.graph_objects as go\n",
        "plt.style.use ('fivethirtyeight')\n",
        "import plotly.express as px\n"
      ],
      "execution_count": 1,
      "outputs": []
    },
    {
      "cell_type": "code",
      "metadata": {
        "colab": {
          "base_uri": "https://localhost:8080/"
        },
        "id": "ytTNoFRst5CE",
        "outputId": "0597e9c4-3b9c-4a53-e6d8-4687757342bf"
      },
      "source": [
        "import matplotlib.pyplot as plt\n",
        "\n",
        "from google.colab import drive \n",
        "drive.mount('/content/gdrive')"
      ],
      "execution_count": 3,
      "outputs": [
        {
          "output_type": "stream",
          "name": "stdout",
          "text": [
            "Drive already mounted at /content/gdrive; to attempt to forcibly remount, call drive.mount(\"/content/gdrive\", force_remount=True).\n"
          ]
        }
      ]
    },
    {
      "cell_type": "code",
      "metadata": {
        "id": "XNPk7KhGOXwd"
      },
      "source": [
        "\n",
        "df=pd.read_csv('gdrive/My Drive/Colab Notebooks/BTC_data.csv')"
      ],
      "execution_count": 4,
      "outputs": []
    },
    {
      "cell_type": "code",
      "metadata": {
        "colab": {
          "base_uri": "https://localhost:8080/",
          "height": 235
        },
        "id": "h4OTBZuFkAjl",
        "outputId": "d1e45413-7581-4457-e1d0-d60657f123a6"
      },
      "source": [
        "df.head()"
      ],
      "execution_count": 68,
      "outputs": [
        {
          "output_type": "execute_result",
          "data": {
            "text/html": [
              "<div>\n",
              "<style scoped>\n",
              "    .dataframe tbody tr th:only-of-type {\n",
              "        vertical-align: middle;\n",
              "    }\n",
              "\n",
              "    .dataframe tbody tr th {\n",
              "        vertical-align: top;\n",
              "    }\n",
              "\n",
              "    .dataframe thead th {\n",
              "        text-align: right;\n",
              "    }\n",
              "</style>\n",
              "<table border=\"1\" class=\"dataframe\">\n",
              "  <thead>\n",
              "    <tr style=\"text-align: right;\">\n",
              "      <th></th>\n",
              "      <th>Open</th>\n",
              "      <th>High</th>\n",
              "      <th>Low</th>\n",
              "      <th>Close</th>\n",
              "      <th>Volume_(BTC)</th>\n",
              "      <th>Volume_(Currency)</th>\n",
              "      <th>Weighted_Price</th>\n",
              "    </tr>\n",
              "    <tr>\n",
              "      <th>Timestamp</th>\n",
              "      <th></th>\n",
              "      <th></th>\n",
              "      <th></th>\n",
              "      <th></th>\n",
              "      <th></th>\n",
              "      <th></th>\n",
              "      <th></th>\n",
              "    </tr>\n",
              "  </thead>\n",
              "  <tbody>\n",
              "    <tr>\n",
              "      <th>2011-12-31 07:52:00</th>\n",
              "      <td>4.39</td>\n",
              "      <td>4.39</td>\n",
              "      <td>4.39</td>\n",
              "      <td>4.39</td>\n",
              "      <td>0.455581</td>\n",
              "      <td>2.000000</td>\n",
              "      <td>4.390000</td>\n",
              "    </tr>\n",
              "    <tr>\n",
              "      <th>2011-12-31 15:50:00</th>\n",
              "      <td>4.39</td>\n",
              "      <td>4.39</td>\n",
              "      <td>4.39</td>\n",
              "      <td>4.39</td>\n",
              "      <td>48.000000</td>\n",
              "      <td>210.720000</td>\n",
              "      <td>4.390000</td>\n",
              "    </tr>\n",
              "    <tr>\n",
              "      <th>2011-12-31 16:59:00</th>\n",
              "      <td>4.50</td>\n",
              "      <td>4.57</td>\n",
              "      <td>4.50</td>\n",
              "      <td>4.57</td>\n",
              "      <td>37.862297</td>\n",
              "      <td>171.380338</td>\n",
              "      <td>4.526411</td>\n",
              "    </tr>\n",
              "    <tr>\n",
              "      <th>2011-12-31 17:00:00</th>\n",
              "      <td>4.58</td>\n",
              "      <td>4.58</td>\n",
              "      <td>4.58</td>\n",
              "      <td>4.58</td>\n",
              "      <td>9.000000</td>\n",
              "      <td>41.220000</td>\n",
              "      <td>4.580000</td>\n",
              "    </tr>\n",
              "    <tr>\n",
              "      <th>2012-01-01 04:16:00</th>\n",
              "      <td>4.58</td>\n",
              "      <td>4.58</td>\n",
              "      <td>4.58</td>\n",
              "      <td>4.58</td>\n",
              "      <td>1.502000</td>\n",
              "      <td>6.879160</td>\n",
              "      <td>4.580000</td>\n",
              "    </tr>\n",
              "  </tbody>\n",
              "</table>\n",
              "</div>"
            ],
            "text/plain": [
              "                     Open  High  ...  Volume_(Currency)  Weighted_Price\n",
              "Timestamp                        ...                                   \n",
              "2011-12-31 07:52:00  4.39  4.39  ...           2.000000        4.390000\n",
              "2011-12-31 15:50:00  4.39  4.39  ...         210.720000        4.390000\n",
              "2011-12-31 16:59:00  4.50  4.57  ...         171.380338        4.526411\n",
              "2011-12-31 17:00:00  4.58  4.58  ...          41.220000        4.580000\n",
              "2012-01-01 04:16:00  4.58  4.58  ...           6.879160        4.580000\n",
              "\n",
              "[5 rows x 7 columns]"
            ]
          },
          "metadata": {},
          "execution_count": 68
        }
      ]
    },
    {
      "cell_type": "code",
      "metadata": {
        "colab": {
          "base_uri": "https://localhost:8080/"
        },
        "id": "Jj3-rIDYHb_v",
        "outputId": "3c01d87e-28df-4f4e-93e2-8c58e6deaa40"
      },
      "source": [
        "df.info()"
      ],
      "execution_count": 6,
      "outputs": [
        {
          "output_type": "stream",
          "name": "stdout",
          "text": [
            "<class 'pandas.core.frame.DataFrame'>\n",
            "RangeIndex: 4857377 entries, 0 to 4857376\n",
            "Data columns (total 8 columns):\n",
            " #   Column             Dtype  \n",
            "---  ------             -----  \n",
            " 0   Timestamp          int64  \n",
            " 1   Open               float64\n",
            " 2   High               float64\n",
            " 3   Low                float64\n",
            " 4   Close              float64\n",
            " 5   Volume_(BTC)       float64\n",
            " 6   Volume_(Currency)  float64\n",
            " 7   Weighted_Price     float64\n",
            "dtypes: float64(7), int64(1)\n",
            "memory usage: 296.5 MB\n"
          ]
        }
      ]
    },
    {
      "cell_type": "code",
      "metadata": {
        "colab": {
          "base_uri": "https://localhost:8080/"
        },
        "id": "e8Jl04jjMgBV",
        "outputId": "6e3f6144-acf6-4820-f350-10ebd462c55c"
      },
      "source": [
        "from google.colab import drive\n",
        "drive.mount('/content/drive')"
      ],
      "execution_count": 7,
      "outputs": [
        {
          "output_type": "stream",
          "name": "stdout",
          "text": [
            "Mounted at /content/drive\n"
          ]
        }
      ]
    },
    {
      "cell_type": "code",
      "metadata": {
        "id": "kmlU_Aa7Heif"
      },
      "source": [
        "df['Timestamp'] = pd.to_datetime(df['Timestamp'], unit='s')\n",
        "df.set_index(df['Timestamp'], inplace=True)\n",
        "df.drop('Timestamp', axis=1, inplace=True)"
      ],
      "execution_count": 8,
      "outputs": []
    },
    {
      "cell_type": "code",
      "metadata": {
        "colab": {
          "base_uri": "https://localhost:8080/",
          "height": 269
        },
        "id": "f0yIpLkWHhei",
        "outputId": "988af19d-7089-40f2-ced8-68718ff527aa"
      },
      "source": [
        "df['Low'].plot();"
      ],
      "execution_count": 70,
      "outputs": [
        {
          "output_type": "display_data",
          "data": {
            "image/png": "[encoded data removed]",
            "text/plain": [
              "<Figure size 432x288 with 1 Axes>"
            ]
          },
          "metadata": {
            "needs_background": "light"
          }
        }
      ]
    },
    {
      "cell_type": "code",
      "metadata": {
        "colab": {
          "base_uri": "https://localhost:8080/",
          "height": 450
        },
        "id": "6WKT9KYWHkO6",
        "outputId": "abc07e00-b15f-474d-bdb1-14a475b2402f"
      },
      "source": [
        "convertion={\n",
        "    'Open':'first',\n",
        "    'High':'max',\n",
        "    'Low':'min',\n",
        "    'Close':'mean',\n",
        "    'Volume_(BTC)':'sum',\n",
        "    'Volume_(Currency)':'sum'\n",
        "}\n",
        "\n",
        "ds_df = df.resample('W').apply(convertion)\n",
        "ds_df"
      ],
      "execution_count": 10,
      "outputs": [
        {
          "output_type": "execute_result",
          "data": {
            "text/html": [
              "<div>\n",
              "<style scoped>\n",
              "    .dataframe tbody tr th:only-of-type {\n",
              "        vertical-align: middle;\n",
              "    }\n",
              "\n",
              "    .dataframe tbody tr th {\n",
              "        vertical-align: top;\n",
              "    }\n",
              "\n",
              "    .dataframe thead th {\n",
              "        text-align: right;\n",
              "    }\n",
              "</style>\n",
              "<table border=\"1\" class=\"dataframe\">\n",
              "  <thead>\n",
              "    <tr style=\"text-align: right;\">\n",
              "      <th></th>\n",
              "      <th>Open</th>\n",
              "      <th>High</th>\n",
              "      <th>Low</th>\n",
              "      <th>Close</th>\n",
              "      <th>Volume_(BTC)</th>\n",
              "      <th>Volume_(Currency)</th>\n",
              "    </tr>\n",
              "    <tr>\n",
              "      <th>Timestamp</th>\n",
              "      <th></th>\n",
              "      <th></th>\n",
              "      <th></th>\n",
              "      <th></th>\n",
              "      <th></th>\n",
              "      <th></th>\n",
              "    </tr>\n",
              "  </thead>\n",
              "  <tbody>\n",
              "    <tr>\n",
              "      <th>2012-01-01</th>\n",
              "      <td>4.39</td>\n",
              "      <td>5.00</td>\n",
              "      <td>4.39</td>\n",
              "      <td>4.621429</td>\n",
              "      <td>116.919878</td>\n",
              "      <td>5.310995e+02</td>\n",
              "    </tr>\n",
              "    <tr>\n",
              "      <th>2012-01-08</th>\n",
              "      <td>5.00</td>\n",
              "      <td>7.00</td>\n",
              "      <td>4.93</td>\n",
              "      <td>6.017321</td>\n",
              "      <td>348.298975</td>\n",
              "      <td>1.975273e+03</td>\n",
              "    </tr>\n",
              "    <tr>\n",
              "      <th>2012-01-15</th>\n",
              "      <td>6.99</td>\n",
              "      <td>7.38</td>\n",
              "      <td>6.23</td>\n",
              "      <td>6.845145</td>\n",
              "      <td>399.325314</td>\n",
              "      <td>2.770146e+03</td>\n",
              "    </tr>\n",
              "    <tr>\n",
              "      <th>2012-01-22</th>\n",
              "      <td>6.20</td>\n",
              "      <td>7.10</td>\n",
              "      <td>5.52</td>\n",
              "      <td>6.332019</td>\n",
              "      <td>731.836776</td>\n",
              "      <td>4.604181e+03</td>\n",
              "    </tr>\n",
              "    <tr>\n",
              "      <th>2012-01-29</th>\n",
              "      <td>6.50</td>\n",
              "      <td>6.86</td>\n",
              "      <td>3.80</td>\n",
              "      <td>6.125431</td>\n",
              "      <td>393.194037</td>\n",
              "      <td>2.430909e+03</td>\n",
              "    </tr>\n",
              "    <tr>\n",
              "      <th>...</th>\n",
              "      <td>...</td>\n",
              "      <td>...</td>\n",
              "      <td>...</td>\n",
              "      <td>...</td>\n",
              "      <td>...</td>\n",
              "      <td>...</td>\n",
              "    </tr>\n",
              "    <tr>\n",
              "      <th>2021-03-07</th>\n",
              "      <td>45261.56</td>\n",
              "      <td>52652.82</td>\n",
              "      <td>45020.25</td>\n",
              "      <td>48915.008325</td>\n",
              "      <td>35430.404648</td>\n",
              "      <td>1.733903e+09</td>\n",
              "    </tr>\n",
              "    <tr>\n",
              "      <th>2021-03-14</th>\n",
              "      <td>50952.55</td>\n",
              "      <td>61781.83</td>\n",
              "      <td>49316.98</td>\n",
              "      <td>56071.977534</td>\n",
              "      <td>38099.486052</td>\n",
              "      <td>2.140668e+09</td>\n",
              "    </tr>\n",
              "    <tr>\n",
              "      <th>2021-03-21</th>\n",
              "      <td>58956.90</td>\n",
              "      <td>60595.13</td>\n",
              "      <td>53221.00</td>\n",
              "      <td>57410.340495</td>\n",
              "      <td>36350.207453</td>\n",
              "      <td>2.072504e+09</td>\n",
              "    </tr>\n",
              "    <tr>\n",
              "      <th>2021-03-28</th>\n",
              "      <td>57410.54</td>\n",
              "      <td>58461.78</td>\n",
              "      <td>50360.00</td>\n",
              "      <td>54715.714425</td>\n",
              "      <td>34671.280242</td>\n",
              "      <td>1.884194e+09</td>\n",
              "    </tr>\n",
              "    <tr>\n",
              "      <th>2021-04-04</th>\n",
              "      <td>55790.28</td>\n",
              "      <td>59388.66</td>\n",
              "      <td>54892.42</td>\n",
              "      <td>57632.642852</td>\n",
              "      <td>8755.477113</td>\n",
              "      <td>5.054728e+08</td>\n",
              "    </tr>\n",
              "  </tbody>\n",
              "</table>\n",
              "<p>484 rows × 6 columns</p>\n",
              "</div>"
            ],
            "text/plain": [
              "                Open      High  ...  Volume_(BTC)  Volume_(Currency)\n",
              "Timestamp                       ...                                 \n",
              "2012-01-01      4.39      5.00  ...    116.919878       5.310995e+02\n",
              "2012-01-08      5.00      7.00  ...    348.298975       1.975273e+03\n",
              "2012-01-15      6.99      7.38  ...    399.325314       2.770146e+03\n",
              "2012-01-22      6.20      7.10  ...    731.836776       4.604181e+03\n",
              "2012-01-29      6.50      6.86  ...    393.194037       2.430909e+03\n",
              "...              ...       ...  ...           ...                ...\n",
              "2021-03-07  45261.56  52652.82  ...  35430.404648       1.733903e+09\n",
              "2021-03-14  50952.55  61781.83  ...  38099.486052       2.140668e+09\n",
              "2021-03-21  58956.90  60595.13  ...  36350.207453       2.072504e+09\n",
              "2021-03-28  57410.54  58461.78  ...  34671.280242       1.884194e+09\n",
              "2021-04-04  55790.28  59388.66  ...   8755.477113       5.054728e+08\n",
              "\n",
              "[484 rows x 6 columns]"
            ]
          },
          "metadata": {},
          "execution_count": 10
        }
      ]
    },
    {
      "cell_type": "code",
      "metadata": {
        "colab": {
          "base_uri": "https://localhost:8080/",
          "height": 542
        },
        "id": "7k-rZJ3FPZFe",
        "outputId": "e16af717-862a-44d9-fddf-e978532366d0"
      },
      "source": [
        "import plotly.graph_objects as go\n",
        "from datetime import datetime\n",
        "fig = go.Figure(go.Candlestick(\n",
        "        x=ds_df.index,\n",
        "        open=ds_df['Open'],\n",
        "        high=ds_df['High'],\n",
        "        low=ds_df['Low'],\n",
        "        close=ds_df['Close']\n",
        "    ))\n",
        "fig.show()\n"
      ],
      "execution_count": 11,
      "outputs": [
        {
          "output_type": "display_data",
          "data": {
            "text/html": [
              "<html>\n",
              "<head><meta charset=\"utf-8\" /></head>\n",
              "<body>\n",
              "    <div>\n",
              "            <script src=\"https://cdnjs.cloudflare.com/ajax/libs/mathjax/2.7.5/MathJax.js?config=TeX-AMS-MML_SVG\"></script><script type=\"text/javascript\">if (window.MathJax) {MathJax.Hub.Config({SVG: {font: \"STIX-Web\"}});}</script>\n",
              "                <script type=\"text/javascript\">window.PlotlyConfig = {MathJaxConfig: 'local'};</script>\n",
              "        <script src=\"https://cdn.plot.ly/plotly-latest.min.js\"></script>    \n",
              "            <div id=\"cf2796ed-4e9b-4a87-966c-33f8ad9bb715\" class=\"plotly-graph-div\" style=\"height:525px; width:100%;\"></div>\n",
              "            <script type=\"text/javascript\">\n",
              "                \n",
              "                    window.PLOTLYENV=window.PLOTLYENV || {};\n",
              "                    \n",
              "                if (document.getElementById(\"cf2796ed-4e9b-4a87-966c-33f8ad9bb715\")) {\n",
              "                    Plotly.newPlot(\n",
              "                        'cf2796ed-4e9b-4a87-966c-33f8ad9bb715',\n",
              "                        [{\"close\": [4.621428571428571, 6.017321428571427, 6.845144508670528, 6.332019230769228, 6.125431034482754, 5.9557458563535945, 5.750399999999999, 4.804161490683233, 4.73148148148148, 4.946397058823527, 4.98683823529412, 5.245138888888886, 4.91447916666667, 4.821976744186043, 4.9110204081632665, 4.884438202247196, 5.124213483146069, 5.057511737089202, 5.053732718894009, 5.004352331606217, 4.998198757763963, 5.068000000000008, 5.127570850202438, 5.393828715365239, 5.947214532871949, 6.461957040572812, 6.434727592267143, 6.5956910569105665, 7.20107660455488, 8.421252900232004, 8.658105468749987, 9.847008797653949, 11.053527696792985, 12.233311567164144, 10.029146211312733, 10.769051008303656, 10.662638888888914, 11.14789779326363, 12.056829590488748, 12.008261933904523, 12.460483870967748, 11.678841251448414, 11.631706666666677, 10.949562363238545, 10.705208140610543, 10.695028184892905, 11.091606217616567, 11.781568431568445, 12.25351851851852, 13.029259634888449, 13.409290928050055, 13.180698529411737, 13.146032786885192, 13.143622526636173, 13.55995136186774, 14.722018163471237, 17.211809458533263, 19.564216679657097, 21.460596491228078, 25.866869409660136, 29.11005913978502, 32.579528767123264, 42.55972194304864, 46.2172775947282, 63.47975646497616, 86.30096033994354, 130.52786116663745, 143.07303470743017, 97.3315339233041, 136.3784970952257, 118.59853010499309, 114.14756441934293, 114.61354846625602, 123.43504613828672, 127.44357686453766, 114.27245881717623, 103.31541100221217, 102.3942002019319, 95.24423563777995, 77.83023582089558, 83.91996698248627, 88.42492182410429, 88.29495414462107, 96.1820645631951, 95.66099253731394, 97.63225944841679, 107.45086573272464, 121.60969875197178, 124.26289391575637, 124.35681968243911, 125.35669644281417, 124.78091463414694, 121.16018566493982, 125.79066360856343, 147.55754139592983, 186.0776560062385, 201.68210559161082, 279.5336349724556, 396.419659511471, 677.6935389072898, 970.4122569866455, 938.4390054791769, 881.3777349654125, 649.842241114414, 691.0366072423393, 779.306081295291, 861.2339513387275, 819.206690027579, 812.1114895417802, 798.3182284041059, 755.451292263272, 654.837589007567, 608.7091045758824, 559.6490072102105, 645.527686506554, 634.4848204297955, 592.7952167300404, 529.9238826554497, 455.46448642700227, 427.16952355316846, 492.46994273070356, 478.3659226841696, 445.08937935843915, 440.5773412880531, 444.74281148521936, 507.55980943854735, 596.8333276539978, 652.0203231292569, 610.2524624784152, 598.3334591679522, 583.1249446954394, 638.2542105263216, 625.4841908575288, 623.0405172109456, 609.544018955776, 583.7503944562926, 586.1280201503298, 533.1786055276402, 498.8024294478547, 505.3590486198708, 480.15048787249185, 473.7864417744949, 435.0895509856414, 408.5126262626256, 364.19964930555835, 348.080383201515, 389.311438426163, 368.2368333768623, 342.11598013328376, 339.2715042782211, 391.1723136030744, 371.3599224806221, 375.24453302670224, 376.132648694906, 354.9350071810967, 327.5191514063458, 324.6798691695109, 305.55033955380827, 278.0544641034359, 217.8075716145827, 226.57699715982392, 244.8558685339962, 226.35809120951794, 230.8204938934354, 240.4911584249067, 243.80272572927836, 272.1351630735204, 288.7538766059128, 270.0622863187588, 251.46351819757314, 248.69310912938218, 245.77133284564684, 223.81615892449997, 228.34275612903156, 229.28304781650886, 236.9180694518375, 238.67881500686198, 235.4828660145946, 235.07371478592853, 224.64878488820273, 229.12103980386522, 243.81888339128164, 244.24299932386586, 258.14987688277364, 278.61911369508994, 284.97755468396446, 281.6472912257867, 288.0746189487124, 277.44530126037347, 264.49616777588653, 238.54177142857097, 224.3853274407389, 230.87899821375393, 239.27973793924923, 230.42463074779383, 231.28089302471034, 237.63433798748054, 243.59980912325923, 256.2462455692609, 274.4153077939227, 307.66387496988546, 388.46802734590426, 339.05817284831227, 327.67151300867334, 340.06510955902576, 370.15137017127057, 417.84102103203634, 454.46702916083143, 437.94271968709216, 428.27051845707143, 442.12353293413304, 413.9294142414867, 392.98806393400343, 385.3628091966155, 376.3812516751547, 381.76704428424307, 418.0139913544688, 426.8917307156756, 420.93911642543117, 413.17090544336105, 413.02253550542787, 415.3789051888108, 416.98378578646026, 419.63514957811026, 425.19356940510045, 440.7189130122214, 455.6693986780574, 450.5890088070451, 455.26463084921994, 448.74454658164933, 469.0420122230689, 547.1106877920561, 591.7586819754621, 720.7011430042494, 658.9961273837756, 657.068389891701, 656.7939804447286, 660.7833006713888, 664.5307316605999, 650.8589453351342, 578.9415326497598, 586.1286218169311, 572.5949967500808, 576.886395507144, 577.279292797917, 614.241631628491, 606.5693677792055, 600.3692582758016, 605.3890402696469, 610.6827312030057, 632.5928148276454, 635.7533395585789, 675.1226001500386, 710.2031165815145, 710.7887805652559, 728.8838769230829, 735.2654707130163, 747.6258042404007, 763.2394166920617, 779.8755278311046, 848.2385620123802, 948.3279430169172, 979.5220334261855, 836.9756324868225, 887.4064117364165, 910.2880137563169, 979.4696914724657, 1018.3440179328717, 1027.29995565989, 1137.3816426015096, 1232.3883993718282, 1207.605085971779, 1156.0185377413065, 1012.8436248695037, 1045.8513385107317, 1160.6855060634323, 1193.4812094712822, 1216.723313169506, 1300.06414588675, 1496.106399913722, 1730.5671513542336, 1851.3136630491085, 2272.0447320169324, 2374.7205884769414, 2798.52016188524, 2584.8278603069984, 2649.704072809997, 2484.7131334642695, 2554.8050759943767, 2254.902894277206, 2482.542121616074, 2652.1430590321297, 2887.1056783866634, 3536.420674191571, 4171.6334770670055, 4180.582374718749, 4583.0904021717315, 4382.368000602823, 3821.9892219656817, 3810.7660997755515, 4093.674647307168, 4345.805318234239, 5181.741359262668, 5733.014617318733, 5764.958822569112, 6824.795226085209, 6942.155741312368, 7254.343961885646, 8313.478685708527, 10302.220935847548, 13536.621562996814, 17222.19016917113, 16041.994358923412, 14303.952192120665, 15155.181567594456, 14233.093805547194, 12005.989645657508, 11154.93075834571, 9654.304206546558, 7953.555472523071, 9644.42040631823, 10424.639776364053, 10755.911930999815, 9977.706095910835, 8506.817423484674, 8667.795808970754, 7470.689980115298, 6953.221307991614, 7443.650898976843, 8360.17545544747, 9161.199214051763, 9410.341014794903, 8962.72692177877, 8358.106721785018, 7759.185148070674, 7464.077087939467, 7536.398145589266, 6569.535593627925, 6453.312773773794, 6170.880140760716, 6579.260534748641, 6365.130301936051, 7199.987996003992, 8085.378492103391, 7550.6967958062705, 6532.757581983797, 6343.880339795736, 6538.263305377989, 6998.431125545811, 6749.177007465171, 6392.6937985008635, 6499.242620030387, 6543.540984937499, 6534.169663744319, 6364.981552098844, 6413.581531563857, 6405.331104607744, 6316.896503029597, 6406.613126289249, 5818.588207974116, 4408.97149012383, 4014.119054385606, 3650.7591005672807, 3319.3526529311735, 3759.365373530936, 3823.0288336820167, 3802.085021420529, 3818.1335623575123, 3616.79881635345, 3554.79325770403, 3422.3750539744856, 3465.2854037061634, 3581.0170720473784, 3908.650910988197, 3802.5565123389347, 3834.261787752418, 3889.8476900033043, 3982.6667622295463, 4011.4376949297093, 4849.384085304223, 5154.568675738799, 5222.884330660085, 5322.361239154845, 5437.403984833172, 6238.694473212488, 7711.099162527304, 7944.022598448687, 8621.026494087242, 7940.85289039858, 8300.795531999587, 9738.19484463419, 11667.956806906104, 11137.680863595631, 11774.843970164076, 10304.217223163561, 9892.593606324695, 10157.277082246756, 11677.298776654328, 10545.087191643202, 10303.997817150968, 9835.758984286742, 10447.372925232727, 10249.601133817408, 10119.505593116155, 8613.121491316691, 8165.868531259351, 8318.9303589183, 8086.517057885845, 8319.06833216679, 9268.049732695006, 9131.580356995, 8636.088267162497, 7738.677349661479, 7355.226189715446, 7379.547667738044, 7232.250254245782, 7037.068874072556, 7295.650093657699, 7247.230847030392, 7958.436130382773, 8669.300857086104, 8503.903108673945, 9221.808940884259, 9612.552002581395, 10116.004720706387, 9780.210114223253, 8999.178645481617, 8862.204749130658, 6626.818346456716, 5711.900419615784, 6445.922858570703, 6588.762109438555, 7119.79864485022, 6960.583693972181, 7261.475054062717, 8459.7503458271, 9242.548825052281, 9235.357521469938, 9401.842950370465, 9218.456735803447, 9674.082390263786, 9587.417698924715, 9366.081486774025, 9305.273469928645, 9125.717427824258, 9264.226849604216, 9186.250431052518, 9488.85641297757, 11098.408152498541, 11541.427889587752, 11717.817393511137, 11822.551926060212, 11507.246591600713, 11007.223527475839, 10271.28112866142, 10845.561321246152, 10589.898439614486, 10683.772360116986, 10913.63292747436, 11406.84713600835, 12552.41144215214, 13449.464503012068, 14564.769679768542, 15791.639880501929, 17809.76064298479, 18007.113446120264, 19097.324776949805, 18604.85898074629, 21578.307290053668, 24205.104180807808, 29168.269498015856, 36721.62391369044, 36040.54714498353, 33924.767812996826, 32978.2229624853, 36955.04401310563, 46206.05611160782, 52275.32481444721, 48871.51727660879, 48915.00832538249, 56071.97753402868, 57410.34049473495, 54715.71442487553, 57632.642851671284], \"high\": [5.0, 7.0, 7.38, 7.1, 6.86, 6.5, 5.9, 5.8, 5.22, 5.1, 5.09, 5.44, 5.37, 4.97, 5.04, 5.01, 5.43, 5.25, 5.15, 5.08, 5.08, 5.12, 5.24, 5.63, 6.52, 6.69, 6.68, 6.8, 7.69, 9.2, 9.0, 12.0, 12.49, 16.41, 10.71, 11.93, 11.15, 11.8, 12.66, 12.38, 12.99, 12.26, 11.97, 11.7, 11.05, 10.87, 11.65, 12.35, 12.74, 13.59, 13.94, 13.62, 13.29, 13.29, 14.19, 15.7, 19.2, 21.0, 23.8, 27.58, 31.49, 34.77, 49.17, 48.38, 76.91, 100.0, 200.0, 259.34, 140.2, 170.28, 151.65, 123.97, 118.98, 130.29, 131.0, 125.01, 111.18, 108.18, 102.3, 90.16, 100.0, 95.0, 94.01, 101.0, 98.98, 101.0, 114.0, 134.95, 132.0, 128.79, 128.0, 128.8, 127.93, 133.0, 172.0, 206.6, 210.0, 363.65, 480.0, 874.81, 1163.0, 1153.27, 989.6, 864.0, 764.32, 948.0, 995.0, 850.26, 845.0, 827.38, 815.0, 720.0, 664.99, 629.0, 710.0, 656.95, 634.99, 592.6, 509.98, 464.19, 548.0, 515.0, 465.88, 459.24, 452.67, 586.34, 683.26, 680.99, 659.0, 616.0, 604.21, 658.88, 642.57, 632.96, 628.0, 607.2, 597.0, 590.99, 534.14, 523.09, 497.0, 492.0, 479.62, 452.67, 397.75, 395.55, 417.99, 393.55, 359.5, 366.35, 453.92, 415.0, 395.11, 383.0, 377.26, 357.3, 338.99, 321.0, 305.0, 272.43, 257.0, 309.9, 244.39, 267.92, 249.32, 260.25, 284.95, 297.95, 294.26, 270.07, 261.0, 262.98, 236.9, 238.64, 242.25, 247.01, 244.51, 241.64, 240.1, 231.2, 234.0, 257.39, 252.0, 274.74, 317.99, 310.73, 294.0, 297.44, 285.88, 271.5, 259.12, 235.93, 244.2, 246.24, 235.0, 237.25, 240.56, 248.5, 273.0, 296.0, 334.67, 502.0, 386.79, 350.44, 373.15, 399.85, 467.8, 466.64, 459.54, 436.0, 465.0, 451.13, 422.98, 402.31, 391.88, 406.71, 447.99, 440.0, 440.99, 421.91, 419.0, 427.99, 424.77, 423.99, 432.87, 470.02, 469.87, 463.97, 464.79, 458.0, 540.0, 588.71, 683.02, 778.85, 763.99, 704.99, 682.36, 684.19, 682.21, 661.99, 630.0, 603.0, 583.99, 585.95, 609.05, 628.99, 610.69, 609.5, 614.28, 616.99, 642.0, 656.0, 717.99, 745.19, 740.86, 755.07, 750.0, 778.07, 774.12, 793.27, 920.0, 1005.0, 1139.89, 918.4, 937.74, 927.57, 1044.23, 1074.69, 1068.99, 1220.0, 1298.0, 1350.0, 1260.0, 1117.9, 1100.0, 1216.87, 1229.0, 1252.32, 1356.0, 1623.01, 1892.0, 2063.11, 2760.1, 2584.34, 2967.46, 2980.0, 2789.0, 2594.78, 2639.47, 2527.88, 2938.0, 2825.0, 3339.66, 4190.0, 4480.0, 4449.98, 4979.9, 4679.97, 4377.65, 4122.7, 4377.22, 4612.0, 5846.43, 6180.0, 6316.85, 7590.0, 7888.0, 8087.35, 9366.6, 11800.01, 16666.66, 19666.0, 19220.0, 16480.52, 17234.99, 16300.0, 14394.36, 11989.15, 11820.01, 9090.8, 11300.0, 11780.0, 11511.0, 11688.0, 9892.0, 9188.1, 8500.0, 7506.84, 8417.0, 9036.52, 9755.53, 9948.98, 9634.5, 8900.9, 8589.1, 7790.69, 7764.44, 6919.97, 6841.81, 6510.0, 6820.0, 6814.72, 7696.88, 8496.96, 8295.0, 7157.93, 6628.5, 6906.81, 7334.5, 7411.85, 6587.0, 6826.28, 6792.28, 6641.35, 6656.63, 6756.0, 6473.0, 6475.0, 6544.0, 6388.21, 5559.69, 4409.77, 4115.15, 3588.43, 4172.07, 4236.84, 4090.0, 4112.0, 3774.0, 3657.89, 3536.77, 3711.04, 3663.34, 4190.0, 3897.62, 3950.25, 4040.0, 4055.35, 4130.36, 5345.0, 5466.06, 5362.97, 5627.0, 5846.13, 7585.0, 8390.95, 8802.29, 9096.79, 8745.96, 9391.85, 11247.62, 13880.0, 12061.04, 13200.0, 11120.0, 10686.89, 11085.99, 12325.0, 11551.57, 10955.48, 10650.0, 10949.0, 10542.93, 10380.07, 10048.06, 8531.25, 8820.0, 8420.85, 10350.0, 9950.0, 9586.5, 9075.32, 8508.4, 7870.35, 7772.71, 7666.0, 7530.0, 7692.98, 7495.0, 8463.57, 9188.1, 8792.98, 9570.0, 10178.54, 10500.5, 10300.0, 10027.66, 9219.13, 8191.13, 7139.0, 6989.04, 7236.39, 7469.0, 7306.15, 7756.69, 9485.26, 10074.0, 9945.34, 9966.12, 9758.27, 10429.26, 10011.4, 9596.31, 9798.76, 9300.0, 9479.57, 9351.17, 10200.0, 12100.0, 11920.0, 12080.0, 12473.0, 11832.55, 12065.82, 10576.78, 11183.01, 10996.98, 10950.0, 11496.06, 11731.7, 13363.53, 14100.0, 15968.98, 16494.52, 18977.0, 19490.0, 19918.01, 19431.0, 24298.04, 28377.94, 34800.0, 42000.0, 40112.78, 37874.71, 38620.0, 41025.48, 49714.66, 58354.14, 57564.19, 52652.82, 61781.83, 60595.13, 58461.78, 59388.66], \"low\": [4.39, 4.93, 6.23, 5.52, 3.8, 3.8, 5.2, 4.14, 4.3, 4.6, 4.77, 4.85, 4.54, 4.54, 4.69, 4.7, 4.93, 4.81, 4.86, 4.87, 4.88, 5.0, 4.95, 5.14, 5.4, 5.98, 5.99, 6.36, 6.55, 7.14, 8.1, 8.54, 10.43, 7.1, 7.86, 9.49, 9.95, 10.38, 11.58, 11.53, 11.5, 10.42, 11.03, 9.5, 10.32, 10.25, 10.72, 11.03, 11.75, 12.32, 13.03, 12.75, 12.91, 12.77, 13.04, 13.5, 15.45, 17.48, 19.9, 22.42, 26.29, 29.78, 33.0, 36.0, 46.98, 69.25, 93.7, 45.0, 49.8, 116.0, 81.5, 98.77, 101.72, 114.03, 117.02, 90.0, 93.1, 90.0, 86.2, 63.0, 70.1, 77.0, 82.0, 90.54, 90.0, 93.31, 99.0, 110.27, 115.21, 115.0, 121.16, 121.54, 85.0, 120.11, 132.0, 156.2, 190.8, 207.22, 310.1, 378.0, 770.1, 542.38, 766.66, 382.21, 607.77, 709.0, 765.0, 765.0, 767.02, 725.0, 619.0, 530.0, 530.01, 400.0, 562.02, 609.0, 541.0, 436.0, 416.11, 339.79, 408.0, 429.95, 424.0, 420.27, 430.61, 441.44, 550.22, 613.03, 538.38, 580.0, 554.45, 595.51, 607.9, 610.0, 589.0, 555.9, 576.44, 481.55, 442.0, 473.33, 470.42, 456.3, 378.78, 368.9, 275.0, 295.89, 368.07, 341.22, 316.61, 320.0, 357.3, 342.05, 358.0, 360.0, 339.8, 304.99, 311.22, 255.0, 262.08, 152.4, 201.98, 208.48, 210.43, 215.0, 229.2, 232.05, 255.61, 274.17, 249.0, 236.4, 236.52, 231.0, 210.0, 214.98, 217.52, 227.01, 232.22, 230.86, 228.0, 219.03, 222.31, 231.55, 238.2, 248.3, 263.01, 272.31, 274.62, 276.57, 260.41, 254.01, 221.11, 198.12, 224.39, 228.0, 223.0, 223.12, 231.69, 236.1, 242.82, 259.82, 279.25, 320.0, 294.0, 310.0, 316.0, 348.64, 381.01, 428.42, 407.25, 417.01, 426.54, 352.0, 372.53, 363.73, 365.0, 369.12, 393.4, 409.07, 382.0, 403.03, 403.34, 406.5, 407.22, 412.0, 377.87, 425.8, 435.0, 438.59, 447.38, 435.0, 436.4, 510.01, 563.0, 655.0, 1.5, 618.03, 605.5, 639.31, 645.0, 614.97, 465.28, 556.24, 552.3, 564.81, 566.86, 592.46, 601.1, 592.1, 596.1, 604.99, 612.12, 624.13, 640.0, 670.32, 683.23, 697.14, 722.3, 721.0, 743.0, 765.1, 787.01, 888.0, 812.28, 751.34, 818.09, 881.48, 910.0, 913.73, 975.1, 1044.39, 1169.0, 975.0, 944.36, 891.33, 952.95, 1076.19, 1141.0, 1161.0, 1234.0, 1341.22, 1554.38, 1641.22, 1850.0, 2110.0, 2525.28, 2120.0, 2432.0, 2291.0, 2462.0, 1830.0, 1910.57, 2400.0, 2615.0, 3178.72, 3800.0, 3600.0, 4169.01, 4001.93, 2972.01, 3514.0, 3658.39, 4137.96, 4541.0, 5101.36, 5366.0, 6024.03, 5555.55, 5846.0, 7770.0, 9000.0, 10850.0, 14677.19, 11159.93, 12050.0, 12801.38, 12800.0, 9222.0, 9927.54, 7625.25, 5920.72, 8067.0, 9260.0, 9376.34, 8366.0, 7325.37, 8114.17, 6427.16, 6510.0, 6611.49, 7806.81, 8647.29, 8815.91, 8208.81, 7929.53, 7213.09, 7026.9, 6627.7, 6120.0, 5780.0, 5774.72, 6270.69, 6072.0, 6333.63, 7369.86, 6888.88, 5995.75, 5880.0, 6223.9, 6641.35, 6094.38, 6162.06, 6100.0, 6324.96, 6396.34, 6055.28, 6149.28, 6354.26, 6199.25, 6269.46, 5199.8, 3474.73, 3522.28, 3210.0, 3122.28, 3181.26, 3566.0, 3629.66, 3476.0, 3470.0, 3401.36, 3322.19, 3328.7, 3531.01, 3614.82, 3658.19, 3670.0, 3775.01, 3919.63, 3850.45, 4052.56, 4912.0, 4948.57, 4991.42, 5071.58, 5562.44, 6178.0, 7468.31, 8000.0, 7432.84, 7523.16, 8918.0, 10300.0, 9614.08, 10090.0, 9049.54, 9111.0, 9360.0, 10986.55, 9467.57, 9755.53, 9320.0, 9753.24, 9855.11, 9600.0, 7733.99, 7714.7, 7763.54, 7811.62, 7293.55, 8961.53, 8661.0, 8363.0, 6785.0, 6515.0, 7087.09, 7007.0, 6425.0, 7052.0, 6853.53, 7342.46, 8039.0, 8212.9, 8546.55, 9075.0, 9598.49, 9312.0, 8410.0, 7995.48, 3850.0, 4435.89, 5686.34, 5856.0, 6750.15, 6472.67, 6757.75, 7637.03, 8109.0, 8181.0, 8669.0, 8630.0, 9135.68, 9078.91, 8900.0, 8830.63, 8905.0, 9053.14, 9026.51, 9128.21, 9933.77, 10933.26, 11130.0, 11367.0, 11112.75, 9850.0, 9825.07, 10250.13, 10138.3, 10380.0, 10525.0, 11175.99, 11409.94, 12773.5, 13220.0, 14824.66, 15875.5, 16218.0, 18100.0, 17569.58, 18979.21, 21864.86, 25831.85, 27734.0, 30261.13, 28800.0, 29150.49, 32333.01, 38050.97, 45914.75, 43021.0, 45020.25, 49316.98, 53221.0, 50360.0, 54892.42], \"open\": [4.39, 5.0, 6.99, 6.2, 6.5, 5.3, 5.6, 5.53, 4.72, 4.97, 4.8, 4.85, 5.24, 4.6, 4.8, 4.7, 4.93, 5.2, 4.92, 5.05, 4.93, 5.04, 5.08, 5.18, 5.48, 6.13, 6.35, 6.55, 6.77, 7.57, 8.42, 8.7, 10.71, 11.42, 8.09, 10.31, 10.17, 10.85, 11.75, 11.99, 12.21, 11.7, 11.78, 11.54, 10.67, 10.63, 10.78, 11.51, 12.32, 12.46, 13.3, 13.28, 13.11, 13.2, 13.1, 13.65, 15.62, 17.6, 20.55, 23.74, 26.81, 29.79, 34.33, 45.97, 47.24, 70.22, 95.5, 164.97, 91.79, 118.91, 135.31, 116.9, 115.05, 117.27, 130.27, 123.35, 100.17, 98.74, 100.4, 89.41, 73.97, 90.02, 85.73, 92.72, 96.38, 94.0, 99.32, 113.12, 130.65, 118.37, 125.36, 123.27, 127.0, 122.49, 132.83, 166.6, 194.99, 210.0, 323.0, 478.1, 800.01, 955.0, 787.0, 861.98, 612.66, 728.01, 905.0, 844.04, 841.5, 814.67, 814.94, 688.0, 621.0, 609.9, 565.38, 638.4, 634.99, 558.22, 460.0, 459.97, 416.29, 501.07, 430.0, 435.88, 437.67, 446.91, 573.5, 630.99, 658.0, 592.0, 600.34, 599.86, 633.87, 630.88, 626.98, 592.61, 588.96, 590.98, 498.0, 507.84, 479.01, 477.4, 475.47, 400.77, 375.35, 322.82, 378.48, 389.06, 355.19, 324.23, 365.37, 389.86, 367.17, 376.09, 376.03, 357.3, 320.88, 317.64, 264.55, 266.34, 211.8, 254.67, 226.93, 223.92, 235.61, 236.46, 257.95, 275.0, 286.79, 268.28, 242.41, 260.57, 236.42, 222.54, 219.52, 239.73, 239.13, 235.69, 239.69, 228.91, 222.65, 232.08, 243.6, 248.63, 271.39, 310.55, 275.08, 292.85, 282.53, 265.05, 256.11, 228.35, 229.04, 240.28, 229.66, 230.1, 232.4, 238.6, 248.05, 260.99, 283.96, 325.78, 372.86, 319.29, 324.2, 371.2, 388.54, 433.13, 442.47, 421.78, 431.54, 448.2, 379.94, 402.16, 368.49, 375.0, 405.5, 438.33, 430.26, 406.15, 412.99, 410.62, 424.62, 418.51, 420.4, 427.15, 460.03, 452.99, 457.75, 457.56, 438.72, 517.6, 573.8, 668.73, 759.12, 630.16, 659.77, 648.77, 679.54, 659.64, 622.5, 592.47, 568.76, 577.55, 573.2, 605.72, 604.08, 608.0, 598.95, 608.6, 612.12, 638.97, 648.71, 697.1, 709.92, 700.38, 727.09, 727.32, 762.0, 768.97, 788.34, 890.65, 997.75, 909.8, 821.86, 923.75, 913.12, 1010.03, 1000.73, 1051.8, 1180.46, 1269.98, 1226.42, 1012.88, 959.08, 1076.59, 1205.2, 1162.31, 1242.0, 1348.88, 1554.38, 1782.3, 2017.55, 2172.54, 2530.27, 2954.23, 2516.98, 2502.26, 2504.81, 2504.0, 1917.72, 2756.8, 2745.76, 3216.78, 4053.87, 4058.64, 4329.91, 4603.68, 4226.21, 3662.95, 3667.01, 4369.33, 4597.97, 5683.92, 5967.38, 6133.01, 7373.3, 5870.03, 8016.58, 9278.99, 11250.0, 14690.99, 18953.0, 14107.87, 13880.0, 16173.98, 13647.99, 11558.87, 11685.58, 8190.78, 8077.25, 10433.68, 9595.99, 11479.68, 9535.04, 8205.55, 8451.12, 6816.31, 7027.26, 8353.43, 8781.7, 9396.32, 9621.99, 8696.54, 8518.64, 7348.64, 7712.97, 6781.17, 6451.03, 6153.6, 6345.48, 6706.6, 6353.25, 7393.5, 8216.74, 7028.89, 6311.99, 6481.63, 6700.13, 7291.94, 6238.99, 6499.28, 6703.37, 6597.79, 6574.15, 6185.04, 6412.62, 6404.27, 6428.23, 6352.57, 5553.01, 3934.22, 4099.63, 3528.68, 3191.41, 3947.82, 3831.03, 4040.71, 3517.03, 3537.42, 3532.23, 3413.75, 3651.32, 3625.6, 3733.78, 3789.7, 3898.14, 3965.63, 3970.23, 4092.02, 5192.92, 5160.54, 5295.96, 5152.98, 5714.4, 6968.84, 8193.45, 8733.27, 8735.84, 7629.98, 8973.02, 10827.23, 10759.24, 11478.43, 10191.87, 10605.03, 9538.73, 10986.55, 11527.44, 10318.99, 10136.75, 9767.56, 10387.33, 10320.36, 10022.38, 8060.13, 7863.75, 8278.39, 8236.49, 9547.32, 9207.0, 9029.88, 8499.53, 6900.9, 7411.75, 7516.8, 7115.08, 7521.88, 7372.79, 7352.12, 8180.75, 8698.97, 8600.0, 9309.69, 10173.51, 9925.96, 9969.79, 8516.0, 8035.79, 5353.04, 5816.57, 5878.47, 6780.57, 6908.21, 7124.27, 7708.87, 8924.14, 8740.88, 9672.95, 8710.12, 9444.61, 9759.04, 9329.99, 9287.89, 9118.8, 9077.18, 9304.94, 9213.15, 9941.25, 11074.92, 11684.6, 11916.83, 11653.7, 11713.11, 10258.43, 10338.82, 10921.53, 10779.99, 10666.16, 11372.48, 11518.58, 13041.12, 13762.0, 15484.68, 15975.49, 18432.6, 18196.75, 19385.13, 19151.82, 23470.85, 26242.82, 33068.83, 38164.88, 35826.36, 32289.06, 33110.32, 38870.36, 48620.48, 57485.74, 45261.56, 50952.55, 58956.9, 57410.54, 55790.28], \"type\": \"candlestick\", \"x\": [\"2012-01-01T00:00:00\", \"2012-01-08T00:00:00\", \"2012-01-15T00:00:00\", \"2012-01-22T00:00:00\", \"2012-01-29T00:00:00\", \"2012-02-05T00:00:00\", \"2012-02-12T00:00:00\", \"2012-02-19T00:00:00\", \"2012-02-26T00:00:00\", \"2012-03-04T00:00:00\", \"2012-03-11T00:00:00\", \"2012-03-18T00:00:00\", \"2012-03-25T00:00:00\", \"2012-04-01T00:00:00\", \"2012-04-08T00:00:00\", \"2012-04-15T00:00:00\", \"2012-04-22T00:00:00\", \"2012-04-29T00:00:00\", \"2012-05-06T00:00:00\", \"2012-05-13T00:00:00\", \"2012-05-20T00:00:00\", \"2012-05-27T00:00:00\", \"2012-06-03T00:00:00\", \"2012-06-10T00:00:00\", \"2012-06-17T00:00:00\", \"2012-06-24T00:00:00\", \"2012-07-01T00:00:00\", \"2012-07-08T00:00:00\", \"2012-07-15T00:00:00\", \"2012-07-22T00:00:00\", \"2012-07-29T00:00:00\", \"2012-08-05T00:00:00\", \"2012-08-12T00:00:00\", \"2012-08-19T00:00:00\", \"2012-08-26T00:00:00\", \"2012-09-02T00:00:00\", \"2012-09-09T00:00:00\", \"2012-09-16T00:00:00\", \"2012-09-23T00:00:00\", \"2012-09-30T00:00:00\", \"2012-10-07T00:00:00\", \"2012-10-14T00:00:00\", \"2012-10-21T00:00:00\", \"2012-10-28T00:00:00\", \"2012-11-04T00:00:00\", \"2012-11-11T00:00:00\", \"2012-11-18T00:00:00\", \"2012-11-25T00:00:00\", \"2012-12-02T00:00:00\", \"2012-12-09T00:00:00\", \"2012-12-16T00:00:00\", \"2012-12-23T00:00:00\", \"2012-12-30T00:00:00\", \"2013-01-06T00:00:00\", \"2013-01-13T00:00:00\", \"2013-01-20T00:00:00\", \"2013-01-27T00:00:00\", \"2013-02-03T00:00:00\", \"2013-02-10T00:00:00\", \"2013-02-17T00:00:00\", \"2013-02-24T00:00:00\", \"2013-03-03T00:00:00\", \"2013-03-10T00:00:00\", \"2013-03-17T00:00:00\", \"2013-03-24T00:00:00\", \"2013-03-31T00:00:00\", \"2013-04-07T00:00:00\", \"2013-04-14T00:00:00\", \"2013-04-21T00:00:00\", \"2013-04-28T00:00:00\", \"2013-05-05T00:00:00\", \"2013-05-12T00:00:00\", \"2013-05-19T00:00:00\", \"2013-05-26T00:00:00\", \"2013-06-02T00:00:00\", \"2013-06-09T00:00:00\", \"2013-06-16T00:00:00\", \"2013-06-23T00:00:00\", \"2013-06-30T00:00:00\", \"2013-07-07T00:00:00\", \"2013-07-14T00:00:00\", \"2013-07-21T00:00:00\", \"2013-07-28T00:00:00\", \"2013-08-04T00:00:00\", \"2013-08-11T00:00:00\", \"2013-08-18T00:00:00\", \"2013-08-25T00:00:00\", \"2013-09-01T00:00:00\", \"2013-09-08T00:00:00\", \"2013-09-15T00:00:00\", \"2013-09-22T00:00:00\", \"2013-09-29T00:00:00\", \"2013-10-06T00:00:00\", \"2013-10-13T00:00:00\", \"2013-10-20T00:00:00\", \"2013-10-27T00:00:00\", \"2013-11-03T00:00:00\", \"2013-11-10T00:00:00\", \"2013-11-17T00:00:00\", \"2013-11-24T00:00:00\", \"2013-12-01T00:00:00\", \"2013-12-08T00:00:00\", \"2013-12-15T00:00:00\", \"2013-12-22T00:00:00\", \"2013-12-29T00:00:00\", \"2014-01-05T00:00:00\", \"2014-01-12T00:00:00\", \"2014-01-19T00:00:00\", \"2014-01-26T00:00:00\", \"2014-02-02T00:00:00\", \"2014-02-09T00:00:00\", \"2014-02-16T00:00:00\", \"2014-02-23T00:00:00\", \"2014-03-02T00:00:00\", \"2014-03-09T00:00:00\", \"2014-03-16T00:00:00\", \"2014-03-23T00:00:00\", \"2014-03-30T00:00:00\", \"2014-04-06T00:00:00\", \"2014-04-13T00:00:00\", \"2014-04-20T00:00:00\", \"2014-04-27T00:00:00\", \"2014-05-04T00:00:00\", \"2014-05-11T00:00:00\", \"2014-05-18T00:00:00\", \"2014-05-25T00:00:00\", \"2014-06-01T00:00:00\", \"2014-06-08T00:00:00\", \"2014-06-15T00:00:00\", \"2014-06-22T00:00:00\", \"2014-06-29T00:00:00\", \"2014-07-06T00:00:00\", \"2014-07-13T00:00:00\", \"2014-07-20T00:00:00\", \"2014-07-27T00:00:00\", \"2014-08-03T00:00:00\", \"2014-08-10T00:00:00\", \"2014-08-17T00:00:00\", \"2014-08-24T00:00:00\", \"2014-08-31T00:00:00\", \"2014-09-07T00:00:00\", \"2014-09-14T00:00:00\", \"2014-09-21T00:00:00\", \"2014-09-28T00:00:00\", \"2014-10-05T00:00:00\", \"2014-10-12T00:00:00\", \"2014-10-19T00:00:00\", \"2014-10-26T00:00:00\", \"2014-11-02T00:00:00\", \"2014-11-09T00:00:00\", \"2014-11-16T00:00:00\", \"2014-11-23T00:00:00\", \"2014-11-30T00:00:00\", \"2014-12-07T00:00:00\", \"2014-12-14T00:00:00\", \"2014-12-21T00:00:00\", \"2014-12-28T00:00:00\", \"2015-01-04T00:00:00\", \"2015-01-11T00:00:00\", \"2015-01-18T00:00:00\", \"2015-01-25T00:00:00\", \"2015-02-01T00:00:00\", \"2015-02-08T00:00:00\", \"2015-02-15T00:00:00\", \"2015-02-22T00:00:00\", \"2015-03-01T00:00:00\", \"2015-03-08T00:00:00\", \"2015-03-15T00:00:00\", \"2015-03-22T00:00:00\", \"2015-03-29T00:00:00\", \"2015-04-05T00:00:00\", \"2015-04-12T00:00:00\", \"2015-04-19T00:00:00\", \"2015-04-26T00:00:00\", \"2015-05-03T00:00:00\", \"2015-05-10T00:00:00\", \"2015-05-17T00:00:00\", \"2015-05-24T00:00:00\", \"2015-05-31T00:00:00\", \"2015-06-07T00:00:00\", \"2015-06-14T00:00:00\", \"2015-06-21T00:00:00\", \"2015-06-28T00:00:00\", \"2015-07-05T00:00:00\", \"2015-07-12T00:00:00\", \"2015-07-19T00:00:00\", \"2015-07-26T00:00:00\", \"2015-08-02T00:00:00\", \"2015-08-09T00:00:00\", \"2015-08-16T00:00:00\", \"2015-08-23T00:00:00\", \"2015-08-30T00:00:00\", \"2015-09-06T00:00:00\", \"2015-09-13T00:00:00\", \"2015-09-20T00:00:00\", \"2015-09-27T00:00:00\", \"2015-10-04T00:00:00\", \"2015-10-11T00:00:00\", \"2015-10-18T00:00:00\", \"2015-10-25T00:00:00\", \"2015-11-01T00:00:00\", \"2015-11-08T00:00:00\", \"2015-11-15T00:00:00\", \"2015-11-22T00:00:00\", \"2015-11-29T00:00:00\", \"2015-12-06T00:00:00\", \"2015-12-13T00:00:00\", \"2015-12-20T00:00:00\", \"2015-12-27T00:00:00\", \"2016-01-03T00:00:00\", \"2016-01-10T00:00:00\", \"2016-01-17T00:00:00\", \"2016-01-24T00:00:00\", \"2016-01-31T00:00:00\", \"2016-02-07T00:00:00\", \"2016-02-14T00:00:00\", \"2016-02-21T00:00:00\", \"2016-02-28T00:00:00\", \"2016-03-06T00:00:00\", \"2016-03-13T00:00:00\", \"2016-03-20T00:00:00\", \"2016-03-27T00:00:00\", \"2016-04-03T00:00:00\", \"2016-04-10T00:00:00\", \"2016-04-17T00:00:00\", \"2016-04-24T00:00:00\", \"2016-05-01T00:00:00\", \"2016-05-08T00:00:00\", \"2016-05-15T00:00:00\", \"2016-05-22T00:00:00\", \"2016-05-29T00:00:00\", \"2016-06-05T00:00:00\", \"2016-06-12T00:00:00\", \"2016-06-19T00:00:00\", \"2016-06-26T00:00:00\", \"2016-07-03T00:00:00\", \"2016-07-10T00:00:00\", \"2016-07-17T00:00:00\", \"2016-07-24T00:00:00\", \"2016-07-31T00:00:00\", \"2016-08-07T00:00:00\", \"2016-08-14T00:00:00\", \"2016-08-21T00:00:00\", \"2016-08-28T00:00:00\", \"2016-09-04T00:00:00\", \"2016-09-11T00:00:00\", \"2016-09-18T00:00:00\", \"2016-09-25T00:00:00\", \"2016-10-02T00:00:00\", \"2016-10-09T00:00:00\", \"2016-10-16T00:00:00\", \"2016-10-23T00:00:00\", \"2016-10-30T00:00:00\", \"2016-11-06T00:00:00\", \"2016-11-13T00:00:00\", \"2016-11-20T00:00:00\", \"2016-11-27T00:00:00\", \"2016-12-04T00:00:00\", \"2016-12-11T00:00:00\", \"2016-12-18T00:00:00\", \"2016-12-25T00:00:00\", \"2017-01-01T00:00:00\", \"2017-01-08T00:00:00\", \"2017-01-15T00:00:00\", \"2017-01-22T00:00:00\", \"2017-01-29T00:00:00\", \"2017-02-05T00:00:00\", \"2017-02-12T00:00:00\", \"2017-02-19T00:00:00\", \"2017-02-26T00:00:00\", \"2017-03-05T00:00:00\", \"2017-03-12T00:00:00\", \"2017-03-19T00:00:00\", \"2017-03-26T00:00:00\", \"2017-04-02T00:00:00\", \"2017-04-09T00:00:00\", \"2017-04-16T00:00:00\", \"2017-04-23T00:00:00\", \"2017-04-30T00:00:00\", \"2017-05-07T00:00:00\", \"2017-05-14T00:00:00\", \"2017-05-21T00:00:00\", \"2017-05-28T00:00:00\", \"2017-06-04T00:00:00\", \"2017-06-11T00:00:00\", \"2017-06-18T00:00:00\", \"2017-06-25T00:00:00\", \"2017-07-02T00:00:00\", \"2017-07-09T00:00:00\", \"2017-07-16T00:00:00\", \"2017-07-23T00:00:00\", \"2017-07-30T00:00:00\", \"2017-08-06T00:00:00\", \"2017-08-13T00:00:00\", \"2017-08-20T00:00:00\", \"2017-08-27T00:00:00\", \"2017-09-03T00:00:00\", \"2017-09-10T00:00:00\", \"2017-09-17T00:00:00\", \"2017-09-24T00:00:00\", \"2017-10-01T00:00:00\", \"2017-10-08T00:00:00\", \"2017-10-15T00:00:00\", \"2017-10-22T00:00:00\", \"2017-10-29T00:00:00\", \"2017-11-05T00:00:00\", \"2017-11-12T00:00:00\", \"2017-11-19T00:00:00\", \"2017-11-26T00:00:00\", \"2017-12-03T00:00:00\", \"2017-12-10T00:00:00\", \"2017-12-17T00:00:00\", \"2017-12-24T00:00:00\", \"2017-12-31T00:00:00\", \"2018-01-07T00:00:00\", \"2018-01-14T00:00:00\", \"2018-01-21T00:00:00\", \"2018-01-28T00:00:00\", \"2018-02-04T00:00:00\", \"2018-02-11T00:00:00\", \"2018-02-18T00:00:00\", \"2018-02-25T00:00:00\", \"2018-03-04T00:00:00\", \"2018-03-11T00:00:00\", \"2018-03-18T00:00:00\", \"2018-03-25T00:00:00\", \"2018-04-01T00:00:00\", \"2018-04-08T00:00:00\", \"2018-04-15T00:00:00\", \"2018-04-22T00:00:00\", \"2018-04-29T00:00:00\", \"2018-05-06T00:00:00\", \"2018-05-13T00:00:00\", \"2018-05-20T00:00:00\", \"2018-05-27T00:00:00\", \"2018-06-03T00:00:00\", \"2018-06-10T00:00:00\", \"2018-06-17T00:00:00\", \"2018-06-24T00:00:00\", \"2018-07-01T00:00:00\", \"2018-07-08T00:00:00\", \"2018-07-15T00:00:00\", \"2018-07-22T00:00:00\", \"2018-07-29T00:00:00\", \"2018-08-05T00:00:00\", \"2018-08-12T00:00:00\", \"2018-08-19T00:00:00\", \"2018-08-26T00:00:00\", \"2018-09-02T00:00:00\", \"2018-09-09T00:00:00\", \"2018-09-16T00:00:00\", \"2018-09-23T00:00:00\", \"2018-09-30T00:00:00\", \"2018-10-07T00:00:00\", \"2018-10-14T00:00:00\", \"2018-10-21T00:00:00\", \"2018-10-28T00:00:00\", \"2018-11-04T00:00:00\", \"2018-11-11T00:00:00\", \"2018-11-18T00:00:00\", \"2018-11-25T00:00:00\", \"2018-12-02T00:00:00\", \"2018-12-09T00:00:00\", \"2018-12-16T00:00:00\", \"2018-12-23T00:00:00\", \"2018-12-30T00:00:00\", \"2019-01-06T00:00:00\", \"2019-01-13T00:00:00\", \"2019-01-20T00:00:00\", \"2019-01-27T00:00:00\", \"2019-02-03T00:00:00\", \"2019-02-10T00:00:00\", \"2019-02-17T00:00:00\", \"2019-02-24T00:00:00\", \"2019-03-03T00:00:00\", \"2019-03-10T00:00:00\", \"2019-03-17T00:00:00\", \"2019-03-24T00:00:00\", \"2019-03-31T00:00:00\", \"2019-04-07T00:00:00\", \"2019-04-14T00:00:00\", \"2019-04-21T00:00:00\", \"2019-04-28T00:00:00\", \"2019-05-05T00:00:00\", \"2019-05-12T00:00:00\", \"2019-05-19T00:00:00\", \"2019-05-26T00:00:00\", \"2019-06-02T00:00:00\", \"2019-06-09T00:00:00\", \"2019-06-16T00:00:00\", \"2019-06-23T00:00:00\", \"2019-06-30T00:00:00\", \"2019-07-07T00:00:00\", \"2019-07-14T00:00:00\", \"2019-07-21T00:00:00\", \"2019-07-28T00:00:00\", \"2019-08-04T00:00:00\", \"2019-08-11T00:00:00\", \"2019-08-18T00:00:00\", \"2019-08-25T00:00:00\", \"2019-09-01T00:00:00\", \"2019-09-08T00:00:00\", \"2019-09-15T00:00:00\", \"2019-09-22T00:00:00\", \"2019-09-29T00:00:00\", \"2019-10-06T00:00:00\", \"2019-10-13T00:00:00\", \"2019-10-20T00:00:00\", \"2019-10-27T00:00:00\", \"2019-11-03T00:00:00\", \"2019-11-10T00:00:00\", \"2019-11-17T00:00:00\", \"2019-11-24T00:00:00\", \"2019-12-01T00:00:00\", \"2019-12-08T00:00:00\", \"2019-12-15T00:00:00\", \"2019-12-22T00:00:00\", \"2019-12-29T00:00:00\", \"2020-01-05T00:00:00\", \"2020-01-12T00:00:00\", \"2020-01-19T00:00:00\", \"2020-01-26T00:00:00\", \"2020-02-02T00:00:00\", \"2020-02-09T00:00:00\", \"2020-02-16T00:00:00\", \"2020-02-23T00:00:00\", \"2020-03-01T00:00:00\", \"2020-03-08T00:00:00\", \"2020-03-15T00:00:00\", \"2020-03-22T00:00:00\", \"2020-03-29T00:00:00\", \"2020-04-05T00:00:00\", \"2020-04-12T00:00:00\", \"2020-04-19T00:00:00\", \"2020-04-26T00:00:00\", \"2020-05-03T00:00:00\", \"2020-05-10T00:00:00\", \"2020-05-17T00:00:00\", \"2020-05-24T00:00:00\", \"2020-05-31T00:00:00\", \"2020-06-07T00:00:00\", \"2020-06-14T00:00:00\", \"2020-06-21T00:00:00\", \"2020-06-28T00:00:00\", \"2020-07-05T00:00:00\", \"2020-07-12T00:00:00\", \"2020-07-19T00:00:00\", \"2020-07-26T00:00:00\", \"2020-08-02T00:00:00\", \"2020-08-09T00:00:00\", \"2020-08-16T00:00:00\", \"2020-08-23T00:00:00\", \"2020-08-30T00:00:00\", \"2020-09-06T00:00:00\", \"2020-09-13T00:00:00\", \"2020-09-20T00:00:00\", \"2020-09-27T00:00:00\", \"2020-10-04T00:00:00\", \"2020-10-11T00:00:00\", \"2020-10-18T00:00:00\", \"2020-10-25T00:00:00\", \"2020-11-01T00:00:00\", \"2020-11-08T00:00:00\", \"2020-11-15T00:00:00\", \"2020-11-22T00:00:00\", \"2020-11-29T00:00:00\", \"2020-12-06T00:00:00\", \"2020-12-13T00:00:00\", \"2020-12-20T00:00:00\", \"2020-12-27T00:00:00\", \"2021-01-03T00:00:00\", \"2021-01-10T00:00:00\", \"2021-01-17T00:00:00\", \"2021-01-24T00:00:00\", \"2021-01-31T00:00:00\", \"2021-02-07T00:00:00\", \"2021-02-14T00:00:00\", \"2021-02-21T00:00:00\", \"2021-02-28T00:00:00\", \"2021-03-07T00:00:00\", \"2021-03-14T00:00:00\", \"2021-03-21T00:00:00\", \"2021-03-28T00:00:00\", \"2021-04-04T00:00:00\"]}],\n",
              "                        {\"template\": {\"data\": {\"bar\": [{\"error_x\": {\"color\": \"#2a3f5f\"}, \"error_y\": {\"color\": \"#2a3f5f\"}, \"marker\": {\"line\": {\"color\": \"#E5ECF6\", \"width\": 0.5}}, \"type\": \"bar\"}], \"barpolar\": [{\"marker\": {\"line\": {\"color\": \"#E5ECF6\", \"width\": 0.5}}, \"type\": \"barpolar\"}], \"carpet\": [{\"aaxis\": {\"endlinecolor\": \"#2a3f5f\", \"gridcolor\": \"white\", \"linecolor\": \"white\", \"minorgridcolor\": \"white\", \"startlinecolor\": \"#2a3f5f\"}, \"baxis\": {\"endlinecolor\": \"#2a3f5f\", \"gridcolor\": \"white\", \"linecolor\": \"white\", \"minorgridcolor\": \"white\", \"startlinecolor\": \"#2a3f5f\"}, \"type\": \"carpet\"}], \"choropleth\": [{\"colorbar\": {\"outlinewidth\": 0, \"ticks\": \"\"}, \"type\": \"choropleth\"}], \"contour\": [{\"colorbar\": {\"outlinewidth\": 0, \"ticks\": \"\"}, \"colorscale\": [[0.0, \"#0d0887\"], [0.1111111111111111, \"#46039f\"], [0.2222222222222222, \"#7201a8\"], [0.3333333333333333, \"#9c179e\"], [0.4444444444444444, \"#bd3786\"], [0.5555555555555556, \"#d8576b\"], [0.6666666666666666, \"#ed7953\"], [0.7777777777777778, \"#fb9f3a\"], [0.8888888888888888, \"#fdca26\"], [1.0, \"#f0f921\"]], \"type\": \"contour\"}], \"contourcarpet\": [{\"colorbar\": {\"outlinewidth\": 0, \"ticks\": \"\"}, \"type\": \"contourcarpet\"}], \"heatmap\": [{\"colorbar\": {\"outlinewidth\": 0, \"ticks\": \"\"}, \"colorscale\": [[0.0, \"#0d0887\"], [0.1111111111111111, \"#46039f\"], [0.2222222222222222, \"#7201a8\"], [0.3333333333333333, \"#9c179e\"], [0.4444444444444444, \"#bd3786\"], [0.5555555555555556, \"#d8576b\"], [0.6666666666666666, \"#ed7953\"], [0.7777777777777778, \"#fb9f3a\"], [0.8888888888888888, \"#fdca26\"], [1.0, \"#f0f921\"]], \"type\": \"heatmap\"}], \"heatmapgl\": [{\"colorbar\": {\"outlinewidth\": 0, \"ticks\": \"\"}, \"colorscale\": [[0.0, \"#0d0887\"], [0.1111111111111111, \"#46039f\"], [0.2222222222222222, \"#7201a8\"], [0.3333333333333333, \"#9c179e\"], [0.4444444444444444, \"#bd3786\"], [0.5555555555555556, \"#d8576b\"], [0.6666666666666666, \"#ed7953\"], [0.7777777777777778, \"#fb9f3a\"], [0.8888888888888888, \"#fdca26\"], [1.0, \"#f0f921\"]], \"type\": \"heatmapgl\"}], \"histogram\": [{\"marker\": {\"colorbar\": {\"outlinewidth\": 0, \"ticks\": \"\"}}, \"type\": \"histogram\"}], \"histogram2d\": [{\"colorbar\": {\"outlinewidth\": 0, \"ticks\": \"\"}, \"colorscale\": [[0.0, \"#0d0887\"], [0.1111111111111111, \"#46039f\"], [0.2222222222222222, \"#7201a8\"], [0.3333333333333333, \"#9c179e\"], [0.4444444444444444, \"#bd3786\"], [0.5555555555555556, \"#d8576b\"], [0.6666666666666666, \"#ed7953\"], [0.7777777777777778, \"#fb9f3a\"], [0.8888888888888888, \"#fdca26\"], [1.0, \"#f0f921\"]], \"type\": \"histogram2d\"}], \"histogram2dcontour\": [{\"colorbar\": {\"outlinewidth\": 0, \"ticks\": \"\"}, \"colorscale\": [[0.0, \"#0d0887\"], [0.1111111111111111, \"#46039f\"], [0.2222222222222222, \"#7201a8\"], [0.3333333333333333, \"#9c179e\"], [0.4444444444444444, \"#bd3786\"], [0.5555555555555556, \"#d8576b\"], [0.6666666666666666, \"#ed7953\"], [0.7777777777777778, \"#fb9f3a\"], [0.8888888888888888, \"#fdca26\"], [1.0, \"#f0f921\"]], \"type\": \"histogram2dcontour\"}], \"mesh3d\": [{\"colorbar\": {\"outlinewidth\": 0, \"ticks\": \"\"}, \"type\": \"mesh3d\"}], \"parcoords\": [{\"line\": {\"colorbar\": {\"outlinewidth\": 0, \"ticks\": \"\"}}, \"type\": \"parcoords\"}], \"pie\": [{\"automargin\": true, \"type\": \"pie\"}], \"scatter\": [{\"marker\": {\"colorbar\": {\"outlinewidth\": 0, \"ticks\": \"\"}}, \"type\": \"scatter\"}], \"scatter3d\": [{\"line\": {\"colorbar\": {\"outlinewidth\": 0, \"ticks\": \"\"}}, \"marker\": {\"colorbar\": {\"outlinewidth\": 0, \"ticks\": \"\"}}, \"type\": \"scatter3d\"}], \"scattercarpet\": [{\"marker\": {\"colorbar\": {\"outlinewidth\": 0, \"ticks\": \"\"}}, \"type\": \"scattercarpet\"}], \"scattergeo\": [{\"marker\": {\"colorbar\": {\"outlinewidth\": 0, \"ticks\": \"\"}}, \"type\": \"scattergeo\"}], \"scattergl\": [{\"marker\": {\"colorbar\": {\"outlinewidth\": 0, \"ticks\": \"\"}}, \"type\": \"scattergl\"}], \"scattermapbox\": [{\"marker\": {\"colorbar\": {\"outlinewidth\": 0, \"ticks\": \"\"}}, \"type\": \"scattermapbox\"}], \"scatterpolar\": [{\"marker\": {\"colorbar\": {\"outlinewidth\": 0, \"ticks\": \"\"}}, \"type\": \"scatterpolar\"}], \"scatterpolargl\": [{\"marker\": {\"colorbar\": {\"outlinewidth\": 0, \"ticks\": \"\"}}, \"type\": \"scatterpolargl\"}], \"scatterternary\": [{\"marker\": {\"colorbar\": {\"outlinewidth\": 0, \"ticks\": \"\"}}, \"type\": \"scatterternary\"}], \"surface\": [{\"colorbar\": {\"outlinewidth\": 0, \"ticks\": \"\"}, \"colorscale\": [[0.0, \"#0d0887\"], [0.1111111111111111, \"#46039f\"], [0.2222222222222222, \"#7201a8\"], [0.3333333333333333, \"#9c179e\"], [0.4444444444444444, \"#bd3786\"], [0.5555555555555556, \"#d8576b\"], [0.6666666666666666, \"#ed7953\"], [0.7777777777777778, \"#fb9f3a\"], [0.8888888888888888, \"#fdca26\"], [1.0, \"#f0f921\"]], \"type\": \"surface\"}], \"table\": [{\"cells\": {\"fill\": {\"color\": \"#EBF0F8\"}, \"line\": {\"color\": \"white\"}}, \"header\": {\"fill\": {\"color\": \"#C8D4E3\"}, \"line\": {\"color\": \"white\"}}, \"type\": \"table\"}]}, \"layout\": {\"annotationdefaults\": {\"arrowcolor\": \"#2a3f5f\", \"arrowhead\": 0, \"arrowwidth\": 1}, \"coloraxis\": {\"colorbar\": {\"outlinewidth\": 0, \"ticks\": \"\"}}, \"colorscale\": {\"diverging\": [[0, \"#8e0152\"], [0.1, \"#c51b7d\"], [0.2, \"#de77ae\"], [0.3, \"#f1b6da\"], [0.4, \"#fde0ef\"], [0.5, \"#f7f7f7\"], [0.6, \"#e6f5d0\"], [0.7, \"#b8e186\"], [0.8, \"#7fbc41\"], [0.9, \"#4d9221\"], [1, \"#276419\"]], \"sequential\": [[0.0, \"#0d0887\"], [0.1111111111111111, \"#46039f\"], [0.2222222222222222, \"#7201a8\"], [0.3333333333333333, \"#9c179e\"], [0.4444444444444444, \"#bd3786\"], [0.5555555555555556, \"#d8576b\"], [0.6666666666666666, \"#ed7953\"], [0.7777777777777778, \"#fb9f3a\"], [0.8888888888888888, \"#fdca26\"], [1.0, \"#f0f921\"]], \"sequentialminus\": [[0.0, \"#0d0887\"], [0.1111111111111111, \"#46039f\"], [0.2222222222222222, \"#7201a8\"], [0.3333333333333333, \"#9c179e\"], [0.4444444444444444, \"#bd3786\"], [0.5555555555555556, \"#d8576b\"], [0.6666666666666666, \"#ed7953\"], [0.7777777777777778, \"#fb9f3a\"], [0.8888888888888888, \"#fdca26\"], [1.0, \"#f0f921\"]]}, \"colorway\": [\"#636efa\", \"#EF553B\", \"#00cc96\", \"#ab63fa\", \"#FFA15A\", \"#19d3f3\", \"#FF6692\", \"#B6E880\", \"#FF97FF\", \"#FECB52\"], \"font\": {\"color\": \"#2a3f5f\"}, \"geo\": {\"bgcolor\": \"white\", \"lakecolor\": \"white\", \"landcolor\": \"#E5ECF6\", \"showlakes\": true, \"showland\": true, \"subunitcolor\": \"white\"}, \"hoverlabel\": {\"align\": \"left\"}, \"hovermode\": \"closest\", \"mapbox\": {\"style\": \"light\"}, \"paper_bgcolor\": \"white\", \"plot_bgcolor\": \"#E5ECF6\", \"polar\": {\"angularaxis\": {\"gridcolor\": \"white\", \"linecolor\": \"white\", \"ticks\": \"\"}, \"bgcolor\": \"#E5ECF6\", \"radialaxis\": {\"gridcolor\": \"white\", \"linecolor\": \"white\", \"ticks\": \"\"}}, \"scene\": {\"xaxis\": {\"backgroundcolor\": \"#E5ECF6\", \"gridcolor\": \"white\", \"gridwidth\": 2, \"linecolor\": \"white\", \"showbackground\": true, \"ticks\": \"\", \"zerolinecolor\": \"white\"}, \"yaxis\": {\"backgroundcolor\": \"#E5ECF6\", \"gridcolor\": \"white\", \"gridwidth\": 2, \"linecolor\": \"white\", \"showbackground\": true, \"ticks\": \"\", \"zerolinecolor\": \"white\"}, \"zaxis\": {\"backgroundcolor\": \"#E5ECF6\", \"gridcolor\": \"white\", \"gridwidth\": 2, \"linecolor\": \"white\", \"showbackground\": true, \"ticks\": \"\", \"zerolinecolor\": \"white\"}}, \"shapedefaults\": {\"line\": {\"color\": \"#2a3f5f\"}}, \"ternary\": {\"aaxis\": {\"gridcolor\": \"white\", \"linecolor\": \"white\", \"ticks\": \"\"}, \"baxis\": {\"gridcolor\": \"white\", \"linecolor\": \"white\", \"ticks\": \"\"}, \"bgcolor\": \"#E5ECF6\", \"caxis\": {\"gridcolor\": \"white\", \"linecolor\": \"white\", \"ticks\": \"\"}}, \"title\": {\"x\": 0.05}, \"xaxis\": {\"automargin\": true, \"gridcolor\": \"white\", \"linecolor\": \"white\", \"ticks\": \"\", \"title\": {\"standoff\": 15}, \"zerolinecolor\": \"white\", \"zerolinewidth\": 2}, \"yaxis\": {\"automargin\": true, \"gridcolor\": \"white\", \"linecolor\": \"white\", \"ticks\": \"\", \"title\": {\"standoff\": 15}, \"zerolinecolor\": \"white\", \"zerolinewidth\": 2}}}},\n",
              "                        {\"responsive\": true}\n",
              "                    ).then(function(){\n",
              "                            \n",
              "var gd = document.getElementById('cf2796ed-4e9b-4a87-966c-33f8ad9bb715');\n",
              "var x = new MutationObserver(function (mutations, observer) {{\n",
              "        var display = window.getComputedStyle(gd).display;\n",
              "        if (!display || display === 'none') {{\n",
              "            console.log([gd, 'removed!']);\n",
              "            Plotly.purge(gd);\n",
              "            observer.disconnect();\n",
              "        }}\n",
              "}});\n",
              "\n",
              "// Listen for the removal of the full notebook cells\n",
              "var notebookContainer = gd.closest('#notebook-container');\n",
              "if (notebookContainer) {{\n",
              "    x.observe(notebookContainer, {childList: true});\n",
              "}}\n",
              "\n",
              "// Listen for the clearing of the current output cell\n",
              "var outputEl = gd.closest('.output');\n",
              "if (outputEl) {{\n",
              "    x.observe(outputEl, {childList: true});\n",
              "}}\n",
              "\n",
              "                        })\n",
              "                };\n",
              "                \n",
              "            </script>\n",
              "        </div>\n",
              "</body>\n",
              "</html>"
            ]
          },
          "metadata": {}
        }
      ]
    },
    {
      "cell_type": "code",
      "metadata": {
        "colab": {
          "base_uri": "https://localhost:8080/",
          "height": 266
        },
        "id": "YGVv7VGdPhR3",
        "outputId": "d73d9290-3a8d-44f3-ceee-8fad918cd14f"
      },
      "source": [
        "col = list(df.columns)\n",
        "\n",
        "null_val = []\n",
        "for i in col:\n",
        "    null_val.append(df[i].isna().value_counts())\n",
        "pd.DataFrame(null_val)"
      ],
      "execution_count": 12,
      "outputs": [
        {
          "output_type": "execute_result",
          "data": {
            "text/html": [
              "<div>\n",
              "<style scoped>\n",
              "    .dataframe tbody tr th:only-of-type {\n",
              "        vertical-align: middle;\n",
              "    }\n",
              "\n",
              "    .dataframe tbody tr th {\n",
              "        vertical-align: top;\n",
              "    }\n",
              "\n",
              "    .dataframe thead th {\n",
              "        text-align: right;\n",
              "    }\n",
              "</style>\n",
              "<table border=\"1\" class=\"dataframe\">\n",
              "  <thead>\n",
              "    <tr style=\"text-align: right;\">\n",
              "      <th></th>\n",
              "      <th>False</th>\n",
              "      <th>True</th>\n",
              "    </tr>\n",
              "  </thead>\n",
              "  <tbody>\n",
              "    <tr>\n",
              "      <th>Open</th>\n",
              "      <td>3613769</td>\n",
              "      <td>1243608</td>\n",
              "    </tr>\n",
              "    <tr>\n",
              "      <th>High</th>\n",
              "      <td>3613769</td>\n",
              "      <td>1243608</td>\n",
              "    </tr>\n",
              "    <tr>\n",
              "      <th>Low</th>\n",
              "      <td>3613769</td>\n",
              "      <td>1243608</td>\n",
              "    </tr>\n",
              "    <tr>\n",
              "      <th>Close</th>\n",
              "      <td>3613769</td>\n",
              "      <td>1243608</td>\n",
              "    </tr>\n",
              "    <tr>\n",
              "      <th>Volume_(BTC)</th>\n",
              "      <td>3613769</td>\n",
              "      <td>1243608</td>\n",
              "    </tr>\n",
              "    <tr>\n",
              "      <th>Volume_(Currency)</th>\n",
              "      <td>3613769</td>\n",
              "      <td>1243608</td>\n",
              "    </tr>\n",
              "    <tr>\n",
              "      <th>Weighted_Price</th>\n",
              "      <td>3613769</td>\n",
              "      <td>1243608</td>\n",
              "    </tr>\n",
              "  </tbody>\n",
              "</table>\n",
              "</div>"
            ],
            "text/plain": [
              "                     False    True \n",
              "Open               3613769  1243608\n",
              "High               3613769  1243608\n",
              "Low                3613769  1243608\n",
              "Close              3613769  1243608\n",
              "Volume_(BTC)       3613769  1243608\n",
              "Volume_(Currency)  3613769  1243608\n",
              "Weighted_Price     3613769  1243608"
            ]
          },
          "metadata": {},
          "execution_count": 12
        }
      ]
    },
    {
      "cell_type": "code",
      "metadata": {
        "id": "LEmfkkzIPvmm"
      },
      "source": [
        "df.dropna(inplace=True)"
      ],
      "execution_count": 13,
      "outputs": []
    },
    {
      "cell_type": "code",
      "metadata": {
        "colab": {
          "base_uri": "https://localhost:8080/",
          "height": 305
        },
        "id": "JW4h3FJ2Px8E",
        "outputId": "77335038-5c49-4eb5-f272-a7ba21b798d0"
      },
      "source": [
        "df[(df.index > '2016-06-19') & (df.index < '2016-07-03')]['Low'].plot()\n"
      ],
      "execution_count": 14,
      "outputs": [
        {
          "output_type": "execute_result",
          "data": {
            "text/plain": [
              "<matplotlib.axes._subplots.AxesSubplot at 0x7f3ec33e8290>"
            ]
          },
          "metadata": {},
          "execution_count": 14
        },
        {
          "output_type": "display_data",
          "data": {
            "image/png": "[encoded data removed]",
            "text/plain": [
              "<Figure size 432x288 with 1 Axes>"
            ]
          },
          "metadata": {
            "needs_background": "light"
          }
        }
      ]
    },
    {
      "cell_type": "code",
      "metadata": {
        "colab": {
          "base_uri": "https://localhost:8080/",
          "height": 295
        },
        "id": "fjhZs1H5P0i2",
        "outputId": "5deecb66-b002-4d36-83b8-59a95d317789"
      },
      "source": [
        "df[(df.index > '2016-06-23 12:00') & (df.index < '2016-06-23 13:00')]['Low'].plot()"
      ],
      "execution_count": 15,
      "outputs": [
        {
          "output_type": "execute_result",
          "data": {
            "text/plain": [
              "<matplotlib.axes._subplots.AxesSubplot at 0x7f3ec330f0d0>"
            ]
          },
          "metadata": {},
          "execution_count": 15
        },
        {
          "output_type": "display_data",
          "data": {
            "image/png": "[encoded data removed]",
            "text/plain": [
              "<Figure size 432x288 with 1 Axes>"
            ]
          },
          "metadata": {
            "needs_background": "light"
          }
        }
      ]
    },
    {
      "cell_type": "code",
      "metadata": {
        "colab": {
          "base_uri": "https://localhost:8080/"
        },
        "id": "PGHO-IPxP3cM",
        "outputId": "94c838ab-fb9a-49fd-ca30-ff6265102b62"
      },
      "source": [
        "df[(df.index > '2016-06-23 12:30') & (df.index < '2016-06-23 12:45')]['Low']"
      ],
      "execution_count": 16,
      "outputs": [
        {
          "output_type": "execute_result",
          "data": {
            "text/plain": [
              "Timestamp\n",
              "2016-06-23 12:31:00    591.26\n",
              "2016-06-23 12:32:00    590.54\n",
              "2016-06-23 12:33:00    590.54\n",
              "2016-06-23 12:34:00    590.40\n",
              "2016-06-23 12:35:00    586.71\n",
              "2016-06-23 12:36:00      1.50\n",
              "2016-06-23 12:37:00    584.06\n",
              "2016-06-23 12:38:00    587.15\n",
              "2016-06-23 12:39:00    586.43\n",
              "2016-06-23 12:40:00    585.96\n",
              "2016-06-23 12:41:00    585.00\n",
              "2016-06-23 12:42:00    584.68\n",
              "2016-06-23 12:43:00    581.01\n",
              "2016-06-23 12:44:00    579.93\n",
              "Name: Low, dtype: float64"
            ]
          },
          "metadata": {},
          "execution_count": 16
        }
      ]
    },
    {
      "cell_type": "code",
      "metadata": {
        "colab": {
          "base_uri": "https://localhost:8080/"
        },
        "id": "Yh24H4I7P6h_",
        "outputId": "7f9cf644-b096-4f09-aeac-2a9d1205e875"
      },
      "source": [
        "df.loc[(df.index == '2016-06-23 12:36:00'), ('Low')] = np.nan\n",
        "df['Low'].interpolate(method='linear', axis=0, inplace=True)\n",
        "df[(df.index > '2016-06-23 12:30') & (df.index < '2016-06-23 12:45')]['Low']"
      ],
      "execution_count": 17,
      "outputs": [
        {
          "output_type": "execute_result",
          "data": {
            "text/plain": [
              "Timestamp\n",
              "2016-06-23 12:31:00    591.260\n",
              "2016-06-23 12:32:00    590.540\n",
              "2016-06-23 12:33:00    590.540\n",
              "2016-06-23 12:34:00    590.400\n",
              "2016-06-23 12:35:00    586.710\n",
              "2016-06-23 12:36:00    585.385\n",
              "2016-06-23 12:37:00    584.060\n",
              "2016-06-23 12:38:00    587.150\n",
              "2016-06-23 12:39:00    586.430\n",
              "2016-06-23 12:40:00    585.960\n",
              "2016-06-23 12:41:00    585.000\n",
              "2016-06-23 12:42:00    584.680\n",
              "2016-06-23 12:43:00    581.010\n",
              "2016-06-23 12:44:00    579.930\n",
              "Name: Low, dtype: float64"
            ]
          },
          "metadata": {},
          "execution_count": 17
        }
      ]
    },
    {
      "cell_type": "code",
      "metadata": {
        "id": "r2e5BX7IQsB7"
      },
      "source": [
        "N=100\n",
        "\n",
        "ds_df['rolling_mean' + str(N)] = ds_df.Close.rolling(window=5).mean()\n",
        "ds_df['rolling_ema_'+ str(N)]  = ds_df.Close.ewm(min_periods=N, span=N).mean()"
      ],
      "execution_count": 18,
      "outputs": []
    },
    {
      "cell_type": "code",
      "metadata": {
        "colab": {
          "base_uri": "https://localhost:8080/"
        },
        "id": "YGo8hosdQyET",
        "outputId": "0f92c7ff-f9f4-4e63-e34a-2737f7e08a6b"
      },
      "source": [
        "import plotly.graph_objects as go\n",
        "fig = go.Figure()\n",
        "\n",
        "\n",
        "\n",
        "fig.update_layout(\n",
        "    title='Analyze Digital Currency',\n",
        "    yaxis_title='Bitcoin Price'\n",
        ")\n",
        "fig.update_yaxes(type=\"log\")\n",
        "\n",
        "fig.add_trace(go.Scatter(x=ds_df.index, y=ds_df['Close'],\n",
        "                        mode='lines',\n",
        "                        name='Close'))\n",
        "\n",
        "fig.add_trace(go.Scatter(x=ds_df.index, y=ds_df['rolling_mean' + str(N)],\n",
        "                    mode='lines',\n",
        "                    name='MEAN ' + str(N),\n",
        "                    ))\n",
        "\n",
        "fig.add_trace(go.Scatter(x=ds_df.index, y=ds_df['rolling_ema_' + str(N)],\n",
        "                    mode='lines',\n",
        "                    name='EMA ' + str(N),\n",
        "                    ))\n",
        "\n",
        "\n",
        "\n",
        "fig.show()"
      ],
      "execution_count": null,
      "outputs": [
        {
          "output_type": "stream",
          "name": "stderr",
          "text": [
            "ERROR:root:Internal Python error in the inspect module.\n",
            "Below is the traceback from this internal error.\n",
            "\n",
            "ERROR:root:Internal Python error in the inspect module.\n",
            "Below is the traceback from this internal error.\n",
            "\n"
          ]
        }
      ]
    },
    {
      "cell_type": "code",
      "metadata": {
        "colab": {
          "base_uri": "https://localhost:8080/"
        },
        "id": "s2NuZU8ETR7E",
        "outputId": "47e09b4e-1b8f-47d8-ded4-f8d4c585d132"
      },
      "source": [
        "data = df.filter(['Close'])\n",
        "dataset = data.values\n",
        "training_data_len = math.ceil(len(dataset) * .1)\n",
        "training_data_len"
      ],
      "execution_count": 21,
      "outputs": [
        {
          "output_type": "execute_result",
          "data": {
            "text/plain": [
              "361377"
            ]
          },
          "metadata": {},
          "execution_count": 21
        }
      ]
    },
    {
      "cell_type": "code",
      "metadata": {
        "colab": {
          "base_uri": "https://localhost:8080/"
        },
        "id": "Fu1NMHjjTaL7",
        "outputId": "5616d61a-840a-4362-c4c2-940d8e598c8e"
      },
      "source": [
        "scaler = MinMaxScaler(feature_range=(0,1))\n",
        "scaled_data = scaler.fit_transform(dataset)\n",
        "scaled_data"
      ],
      "execution_count": 22,
      "outputs": [
        {
          "output_type": "execute_result",
          "data": {
            "text/plain": [
              "array([[4.67786657e-05],\n",
              "       [4.67786657e-05],\n",
              "       [4.96922158e-05],\n",
              "       ...,\n",
              "       [9.50502668e-01],\n",
              "       [9.51097518e-01],\n",
              "       [9.51382237e-01]])"
            ]
          },
          "metadata": {},
          "execution_count": 22
        }
      ]
    },
    {
      "cell_type": "code",
      "metadata": {
        "colab": {
          "base_uri": "https://localhost:8080/"
        },
        "id": "7wUHeuHlUnwQ",
        "outputId": "7986ea13-f90a-4f85-8791-e86a43e099b6"
      },
      "source": [
        "train_data = scaled_data[0:training_data_len, :]\n",
        "x_train = []\n",
        "y_train = []\n",
        "for i in range(60, len(train_data)):\n",
        "    x_train.append(train_data[i-60:i, 0])\n",
        "    y_train.append(train_data[i, 0])\n",
        "    if i <= 61:\n",
        "        print(x_train)\n",
        "        print(y_train)\n",
        "        print()"
      ],
      "execution_count": 23,
      "outputs": [
        {
          "output_type": "stream",
          "name": "stdout",
          "text": [
            "[array([4.67786657e-05, 4.67786657e-05, 4.96922158e-05, 4.98540797e-05,\n",
            "       4.98540797e-05, 5.40625410e-05, 5.66523633e-05, 5.66523633e-05,\n",
            "       6.18320079e-05, 5.89184578e-05, 6.08608246e-05, 6.13464163e-05,\n",
            "       6.13464163e-05, 5.89184578e-05, 6.13464163e-05, 6.13464163e-05,\n",
            "       5.55193160e-05, 5.55193160e-05, 5.97277773e-05, 5.97277773e-05,\n",
            "       5.97277773e-05, 6.18320079e-05, 6.18320079e-05, 6.26413274e-05,\n",
            "       6.58786053e-05, 6.83065637e-05, 6.87921554e-05, 6.94396110e-05,\n",
            "       7.28387528e-05, 7.28387528e-05, 7.52667112e-05, 7.59141668e-05,\n",
            "       7.65616224e-05, 7.68853502e-05, 8.02844920e-05, 8.02844920e-05,\n",
            "       7.97989003e-05, 7.99607642e-05, 7.97989003e-05, 7.96370364e-05,\n",
            "       7.97989003e-05, 7.99607642e-05, 8.04463559e-05, 8.33599060e-05,\n",
            "       8.33599060e-05, 8.33599060e-05, 8.33599060e-05, 8.46548172e-05,\n",
            "       8.74065034e-05, 8.51404088e-05, 8.09319476e-05, 8.07700837e-05,\n",
            "       7.93133086e-05, 7.93133086e-05, 7.93133086e-05, 7.93133086e-05,\n",
            "       7.76946697e-05, 7.60760307e-05, 7.44573918e-05, 7.28387528e-05])]\n",
            "[8.578786441632689e-05]\n",
            "\n",
            "[array([4.67786657e-05, 4.67786657e-05, 4.96922158e-05, 4.98540797e-05,\n",
            "       4.98540797e-05, 5.40625410e-05, 5.66523633e-05, 5.66523633e-05,\n",
            "       6.18320079e-05, 5.89184578e-05, 6.08608246e-05, 6.13464163e-05,\n",
            "       6.13464163e-05, 5.89184578e-05, 6.13464163e-05, 6.13464163e-05,\n",
            "       5.55193160e-05, 5.55193160e-05, 5.97277773e-05, 5.97277773e-05,\n",
            "       5.97277773e-05, 6.18320079e-05, 6.18320079e-05, 6.26413274e-05,\n",
            "       6.58786053e-05, 6.83065637e-05, 6.87921554e-05, 6.94396110e-05,\n",
            "       7.28387528e-05, 7.28387528e-05, 7.52667112e-05, 7.59141668e-05,\n",
            "       7.65616224e-05, 7.68853502e-05, 8.02844920e-05, 8.02844920e-05,\n",
            "       7.97989003e-05, 7.99607642e-05, 7.97989003e-05, 7.96370364e-05,\n",
            "       7.97989003e-05, 7.99607642e-05, 8.04463559e-05, 8.33599060e-05,\n",
            "       8.33599060e-05, 8.33599060e-05, 8.33599060e-05, 8.46548172e-05,\n",
            "       8.74065034e-05, 8.51404088e-05, 8.09319476e-05, 8.07700837e-05,\n",
            "       7.93133086e-05, 7.93133086e-05, 7.93133086e-05, 7.93133086e-05,\n",
            "       7.76946697e-05, 7.60760307e-05, 7.44573918e-05, 7.28387528e-05]), array([4.67786657e-05, 4.96922158e-05, 4.98540797e-05, 4.98540797e-05,\n",
            "       5.40625410e-05, 5.66523633e-05, 5.66523633e-05, 6.18320079e-05,\n",
            "       5.89184578e-05, 6.08608246e-05, 6.13464163e-05, 6.13464163e-05,\n",
            "       5.89184578e-05, 6.13464163e-05, 6.13464163e-05, 5.55193160e-05,\n",
            "       5.55193160e-05, 5.97277773e-05, 5.97277773e-05, 5.97277773e-05,\n",
            "       6.18320079e-05, 6.18320079e-05, 6.26413274e-05, 6.58786053e-05,\n",
            "       6.83065637e-05, 6.87921554e-05, 6.94396110e-05, 7.28387528e-05,\n",
            "       7.28387528e-05, 7.52667112e-05, 7.59141668e-05, 7.65616224e-05,\n",
            "       7.68853502e-05, 8.02844920e-05, 8.02844920e-05, 7.97989003e-05,\n",
            "       7.99607642e-05, 7.97989003e-05, 7.96370364e-05, 7.97989003e-05,\n",
            "       7.99607642e-05, 8.04463559e-05, 8.33599060e-05, 8.33599060e-05,\n",
            "       8.33599060e-05, 8.33599060e-05, 8.46548172e-05, 8.74065034e-05,\n",
            "       8.51404088e-05, 8.09319476e-05, 8.07700837e-05, 7.93133086e-05,\n",
            "       7.93133086e-05, 7.93133086e-05, 7.93133086e-05, 7.76946697e-05,\n",
            "       7.60760307e-05, 7.44573918e-05, 7.28387528e-05, 8.57878644e-05])]\n",
            "[8.578786441632689e-05, 8.740650336757836e-05]\n",
            "\n"
          ]
        }
      ]
    },
    {
      "cell_type": "code",
      "metadata": {
        "colab": {
          "base_uri": "https://localhost:8080/"
        },
        "id": "8hN9XOiBUoZL",
        "outputId": "2012c1fd-00d0-4df0-eec3-fd6bcd56cdb9"
      },
      "source": [
        "x_train, y_train = np.array(x_train), np.array(y_train)\n",
        "x_train = np.reshape(x_train, (x_train.shape[0], x_train.shape[1], 1))\n",
        "x_train.shape"
      ],
      "execution_count": 24,
      "outputs": [
        {
          "output_type": "execute_result",
          "data": {
            "text/plain": [
              "(361317, 60, 1)"
            ]
          },
          "metadata": {},
          "execution_count": 24
        }
      ]
    },
    {
      "cell_type": "code",
      "metadata": {
        "colab": {
          "base_uri": "https://localhost:8080/"
        },
        "id": "istgnZxbU-UV",
        "outputId": "bdb4e59a-0f81-4a6f-d465-2f5c6ab56bb5"
      },
      "source": [
        "model = Sequential()\n",
        "model.add(LSTM(50, return_sequences = True, input_shape = (x_train.shape[1], 1)))\n",
        "model.add(LSTM(50, return_sequences = False))\n",
        "model.add(Dense(25))\n",
        "model.add(Dense(1))\n",
        "model.compile(optimizer = 'adam', loss = 'mean_squared_error')\n",
        "model.fit(x_train, y_train, batch_size = 1, epochs = 1)"
      ],
      "execution_count": 25,
      "outputs": [
        {
          "output_type": "stream",
          "name": "stdout",
          "text": [
            "361317/361317 [==============================] - 7774s 22ms/step - loss: 1.1336e-07\n"
          ]
        },
        {
          "output_type": "execute_result",
          "data": {
            "text/plain": [
              "<keras.callbacks.History at 0x7f3ec40dd210>"
            ]
          },
          "metadata": {},
          "execution_count": 25
        }
      ]
    },
    {
      "cell_type": "code",
      "metadata": {
        "colab": {
          "base_uri": "https://localhost:8080/"
        },
        "id": "nL3GL5IcVJrD",
        "outputId": "014aef65-95c3-4963-bce8-318f351bd2b8"
      },
      "source": [
        "test_data = scaled_data[training_data_len - 60: , :]\n",
        "x_test = []\n",
        "y_test = dataset[training_data_len:, :]\n",
        "\n",
        "for i in range (60, len(test_data)):\n",
        "    x_test.append(test_data[i - 60:i, 0])\n",
        "\n",
        "x_test = np.array(x_test)\n",
        "x_test = np.reshape(x_test, (x_test.shape[0], x_test.shape[1], 1))\n",
        "\n",
        "predictions = model.predict(x_test)\n",
        "predictions = scaler.inverse_transform(predictions)\n",
        "\n",
        "rsme = np.sqrt(np.mean(predictions - y_test) ** 2)\n",
        "rsme"
      ],
      "execution_count": 26,
      "outputs": [
        {
          "output_type": "execute_result",
          "data": {
            "text/plain": [
              "1386.904235621349"
            ]
          },
          "metadata": {},
          "execution_count": 26
        }
      ]
    },
    {
      "cell_type": "code",
      "metadata": {
        "colab": {
          "base_uri": "https://localhost:8080/"
        },
        "id": "ULCpIZHAzoSp",
        "outputId": "1418bccb-6ba0-4e66-9026-92cd3d6f6164"
      },
      "source": [
        "train = data[:training_data_len]\n",
        "valid = data[training_data_len:]\n",
        "valid['Predictions'] = predictions"
      ],
      "execution_count": 27,
      "outputs": [
        {
          "output_type": "stream",
          "name": "stderr",
          "text": [
            "/usr/local/lib/python3.7/dist-packages/ipykernel_launcher.py:3: SettingWithCopyWarning:\n",
            "\n",
            "\n",
            "A value is trying to be set on a copy of a slice from a DataFrame.\n",
            "Try using .loc[row_indexer,col_indexer] = value instead\n",
            "\n",
            "See the caveats in the documentation: https://pandas.pydata.org/pandas-docs/stable/user_guide/indexing.html#returning-a-view-versus-a-copy\n",
            "\n"
          ]
        }
      ]
    },
    {
      "cell_type": "code",
      "metadata": {
        "colab": {
          "base_uri": "https://localhost:8080/",
          "height": 232
        },
        "id": "9VMtG_T4z5rj",
        "outputId": "eaea670a-20e2-4d87-f682-2a5a204cd8b7"
      },
      "source": [
        "import plotly.graph_objects as go\n",
        "fig = go.Figure()    \n",
        "fig.update_layout(\n",
        "    title='Analyze Digital Currency',\n",
        "    yaxis_title='Bitcoin Price'\n",
        ")\n",
        "\n",
        "fig.add_trace(go.Scatter(x = train.index, y = train.Close,\n",
        "                    mode='lines',\n",
        "                    name='Close',))\n",
        "fig.add_trace(go.Scatter(x = valid.index, y = valid.Close,\n",
        "                    mode='lines',\n",
        "                    name='Val',))\n",
        "fig.add_trace(go.Scatter(x = valid.index, y = valid.Predictions,\n",
        "                    mode='lines',\n",
        "                    name='Predictions',))\n",
        "\n",
        "fig.show()"
      ],
      "execution_count": 2,
      "outputs": [
        {
          "output_type": "error",
          "ename": "NameError",
          "evalue": "ignored",
          "traceback": [
            "\u001b[0;31m---------------------------------------------------------------------------\u001b[0m",
            "\u001b[0;31mNameError\u001b[0m                                 Traceback (most recent call last)",
            "\u001b[0;32m<ipython-input-2-13fe4872de7a>\u001b[0m in \u001b[0;36m<module>\u001b[0;34m()\u001b[0m\n\u001b[1;32m      6\u001b[0m )\n\u001b[1;32m      7\u001b[0m \u001b[0mfig\u001b[0m\u001b[0;34m.\u001b[0m\u001b[0mupdate_yaxes\u001b[0m\u001b[0;34m(\u001b[0m\u001b[0mtype\u001b[0m\u001b[0;34m=\u001b[0m\u001b[0;34m\"log\"\u001b[0m\u001b[0;34m)\u001b[0m\u001b[0;34m\u001b[0m\u001b[0;34m\u001b[0m\u001b[0m\n\u001b[0;32m----> 8\u001b[0;31m fig.add_trace(go.Scatter(x = train.index, y = train.Close,\n\u001b[0m\u001b[1;32m      9\u001b[0m                     \u001b[0mmode\u001b[0m\u001b[0;34m=\u001b[0m\u001b[0;34m'lines'\u001b[0m\u001b[0;34m,\u001b[0m\u001b[0;34m\u001b[0m\u001b[0;34m\u001b[0m\u001b[0m\n\u001b[1;32m     10\u001b[0m                     name='Close',))\n",
            "\u001b[0;31mNameError\u001b[0m: name 'train' is not defined"
          ]
        }
      ]
    },
    {
      "cell_type": "code",
      "metadata": {
        "id": "-RrX2J8ajuLs"
      },
      "source": [
        "fig.show()"
      ],
      "execution_count": 80,
      "outputs": []
    },
    {
      "cell_type": "code",
      "metadata": {
        "colab": {
          "base_uri": "https://localhost:8080/",
          "height": 235
        },
        "id": "V5LX75Hg0-9p",
        "outputId": "1399d56c-69b7-4319-ad03-17ac6bd3f7cf"
      },
      "source": [
        "valid.tail()"
      ],
      "execution_count": 79,
      "outputs": [
        {
          "output_type": "execute_result",
          "data": {
            "text/html": [
              "<div>\n",
              "<style scoped>\n",
              "    .dataframe tbody tr th:only-of-type {\n",
              "        vertical-align: middle;\n",
              "    }\n",
              "\n",
              "    .dataframe tbody tr th {\n",
              "        vertical-align: top;\n",
              "    }\n",
              "\n",
              "    .dataframe thead th {\n",
              "        text-align: right;\n",
              "    }\n",
              "</style>\n",
              "<table border=\"1\" class=\"dataframe\">\n",
              "  <thead>\n",
              "    <tr style=\"text-align: right;\">\n",
              "      <th></th>\n",
              "      <th>Close</th>\n",
              "      <th>Predictions</th>\n",
              "    </tr>\n",
              "    <tr>\n",
              "      <th>Timestamp</th>\n",
              "      <th></th>\n",
              "      <th></th>\n",
              "    </tr>\n",
              "  </thead>\n",
              "  <tbody>\n",
              "    <tr>\n",
              "      <th>2021-03-30 23:56:00</th>\n",
              "      <td>58686.00</td>\n",
              "      <td>19096.496094</td>\n",
              "    </tr>\n",
              "    <tr>\n",
              "      <th>2021-03-30 23:57:00</th>\n",
              "      <td>58685.81</td>\n",
              "      <td>19096.652344</td>\n",
              "    </tr>\n",
              "    <tr>\n",
              "      <th>2021-03-30 23:58:00</th>\n",
              "      <td>58723.84</td>\n",
              "      <td>19096.679688</td>\n",
              "    </tr>\n",
              "    <tr>\n",
              "      <th>2021-03-30 23:59:00</th>\n",
              "      <td>58760.59</td>\n",
              "      <td>19096.775391</td>\n",
              "    </tr>\n",
              "    <tr>\n",
              "      <th>2021-03-31 00:00:00</th>\n",
              "      <td>58778.18</td>\n",
              "      <td>19097.062500</td>\n",
              "    </tr>\n",
              "  </tbody>\n",
              "</table>\n",
              "</div>"
            ],
            "text/plain": [
              "                        Close   Predictions\n",
              "Timestamp                                  \n",
              "2021-03-30 23:56:00  58686.00  19096.496094\n",
              "2021-03-30 23:57:00  58685.81  19096.652344\n",
              "2021-03-30 23:58:00  58723.84  19096.679688\n",
              "2021-03-30 23:59:00  58760.59  19096.775391\n",
              "2021-03-31 00:00:00  58778.18  19097.062500"
            ]
          },
          "metadata": {},
          "execution_count": 79
        }
      ]
    },
    {
      "cell_type": "code",
      "metadata": {
        "colab": {
          "base_uri": "https://localhost:8080/"
        },
        "id": "RicSkMWVnxMH",
        "outputId": "041f7085-8545-4e98-d6ad-aac0490ae9dc"
      },
      "source": [
        "last_120_days = data[-120:].values\n",
        "last_120_days_scaled = scaler.transform(last_120_days)\n",
        "X_test = []\n",
        "X_test.append(last_120_days_scaled)\n",
        "X_test = np.array(X_test)\n",
        "X_test = np.reshape(X_test, (X_test.shape[0],X_test.shape[1], 1))\n",
        "pred_price = model.predict(X_test)\n",
        "pred_price = scaler.inverse_transform(pred_price)\n",
        "print()\n",
        "print(pred_price)"
      ],
      "execution_count": 62,
      "outputs": [
        {
          "output_type": "stream",
          "name": "stdout",
          "text": [
            "Predicting the closing price for the next day\n",
            "\n",
            "[[19097.498]]\n"
          ]
        }
      ]
    },
    {
      "cell_type": "code",
      "metadata": {
        "id": "iGTC6faZNjux"
      },
      "source": [
        ""
      ],
      "execution_count": null,
      "outputs": []
    }
  ]
}